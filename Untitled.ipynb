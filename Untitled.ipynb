{
 "cells": [
  {
   "cell_type": "code",
   "execution_count": 1,
   "id": "290624e9",
   "metadata": {},
   "outputs": [],
   "source": [
    "from refactoring import *"
   ]
  },
  {
   "cell_type": "markdown",
   "id": "b7b3a8c5",
   "metadata": {},
   "source": [
    "Dictionaries are taken as input from a parameter file, they contain the parameters for each soap descriptor"
   ]
  },
  {
   "cell_type": "code",
   "execution_count": 2,
   "id": "a65c9154",
   "metadata": {},
   "outputs": [],
   "source": [
    "descDict1 = {'lower': 1, 'upper': 50, 'centres': '{8, 7, 6, 1, 16, 17, 9}',\n",
    "             'neighbours': '{8, 7, 6, 1, 16, 17, 9}',\n",
    "             'mu': 0, 'mu_hat': 0, 'nu': 2, 'nu_hat': 0,\n",
    "             'mutation_chance': 0.50, 'min_cutoff': 1,\n",
    "             'max_cutoff': 50, 'min_sigma': 0.1, 'max_sigma': 0.9}\n",
    "\n",
    "descDict2 = {'lower': 51, 'upper': 100, 'centres': '{8, 7, 6, 1, 16, 17, 9}',\n",
    "             'neighbours': '{8, 7, 6, 1, 16, 17, 9}',\n",
    "             'mu': 0,\n",
    "             'mu_hat': 0, 'nu': 2, 'nu_hat': 0, 'mutation_chance': 0.50,\n",
    "             'min_cutoff': 51,\n",
    "             'max_cutoff': 100, 'min_sigma': 1.1, 'max_sigma': 1.9}"
   ]
  },
  {
   "cell_type": "markdown",
   "id": "83e31fb5",
   "metadata": {},
   "source": [
    "Other parameters are also taken as input. These are automatically checked that the parameters are viable"
   ]
  },
  {
   "cell_type": "code",
   "execution_count": 3,
   "id": "bb86204d",
   "metadata": {},
   "outputs": [],
   "source": [
    "num_gens = 100\n",
    "best_sample, lucky_few, population_size, number_of_children = 4, 2, 12, 4"
   ]
  },
  {
   "cell_type": "markdown",
   "id": "94a756a1",
   "metadata": {},
   "source": [
    "GeneParameter class is created from each descriptor dictionary. "
   ]
  },
  {
   "cell_type": "code",
   "execution_count": 4,
   "id": "c6a220fc",
   "metadata": {},
   "outputs": [],
   "source": [
    "params1 = GeneParameters(**descDict1)\n",
    "params2 = GeneParameters(**descDict2)"
   ]
  },
  {
   "cell_type": "code",
   "execution_count": 5,
   "id": "c3c2af77",
   "metadata": {},
   "outputs": [
    {
     "data": {
      "text/plain": [
       "GeneParameters(lower=1, upper=50, centres='{8, 7, 6, 1, 16, 17, 9}', neighbours='{8, 7, 6, 1, 16, 17, 9}', mu=0, mu_hat=0, nu=2, nu_hat=0, mutation_chance=0.5, min_cutoff=1, max_cutoff=50, min_sigma=0.1, max_sigma=0.9)"
      ]
     },
     "execution_count": 5,
     "metadata": {},
     "output_type": "execute_result"
    }
   ],
   "source": [
    "params1"
   ]
  },
  {
   "cell_type": "markdown",
   "id": "6cb6ee73",
   "metadata": {},
   "source": [
    "We can use these classes to create a specific set of parameters that are consistant with these values. This returns a ranfomly generated GeneSet class"
   ]
  },
  {
   "cell_type": "code",
   "execution_count": 6,
   "id": "cb110b00",
   "metadata": {},
   "outputs": [
    {
     "data": {
      "text/plain": [
       "GeneSet(22, 29, 47, 0.89)"
      ]
     },
     "execution_count": 6,
     "metadata": {},
     "output_type": "execute_result"
    }
   ],
   "source": [
    "example_gene_set = params1.make_gene_set()\n",
    "example_gene_set"
   ]
  },
  {
   "cell_type": "markdown",
   "id": "abc0b2f4",
   "metadata": {},
   "source": [
    "We can get the parameters used to create the GeneSet class"
   ]
  },
  {
   "cell_type": "code",
   "execution_count": 7,
   "id": "75f3f54a",
   "metadata": {},
   "outputs": [
    {
     "data": {
      "text/plain": [
       "GeneParameters(lower=1, upper=50, centres='{8, 7, 6, 1, 16, 17, 9}', neighbours='{8, 7, 6, 1, 16, 17, 9}', mu=0, mu_hat=0, nu=2, nu_hat=0, mutation_chance=0.5, min_cutoff=1, max_cutoff=50, min_sigma=0.1, max_sigma=0.9)"
      ]
     },
     "execution_count": 7,
     "metadata": {},
     "output_type": "execute_result"
    }
   ],
   "source": [
    "example_gene_set.gene_parameters"
   ]
  },
  {
   "cell_type": "markdown",
   "id": "71514327",
   "metadata": {},
   "source": [
    "We can get a descriptor string to be used as an input for getting SOAPs"
   ]
  },
  {
   "cell_type": "code",
   "execution_count": 8,
   "id": "c02e1b69",
   "metadata": {},
   "outputs": [
    {
     "data": {
      "text/plain": [
       "'soap average cutoff=22 l_max=29 n_max=47 atom_sigma=0.89 n_Z=9 Z={8, 7, 6, 1, 16, 17, 9} n_species=9 species_Z={8, 7, 6, 1, 16, 17, 9} mu=0 mu_hat=0 nu=2 nu_hat=0'"
      ]
     },
     "execution_count": 8,
     "metadata": {},
     "output_type": "execute_result"
    }
   ],
   "source": [
    "example_gene_set.get_soap_string()"
   ]
  },
  {
   "cell_type": "markdown",
   "id": "f9735a2b",
   "metadata": {},
   "source": [
    "We can also mutate the gene using the mutation chance in the GeneParameters class"
   ]
  },
  {
   "cell_type": "code",
   "execution_count": 9,
   "id": "d07dab90",
   "metadata": {},
   "outputs": [
    {
     "name": "stdout",
     "output_type": "stream",
     "text": [
      "Before mutation [22, 29, 47, 0.89]\n",
      "After mutation [22, 29, 47, 0.89]\n"
     ]
    }
   ],
   "source": [
    "print(f\"Before mutation {example_gene_set}\")\n",
    "example_gene_set.mutate_gene()\n",
    "print(f\"After mutation {example_gene_set}\")"
   ]
  },
  {
   "cell_type": "markdown",
   "id": "d3581dd2",
   "metadata": {},
   "source": [
    "We can concatenate these GeneSet objects into a list and use that list to create an Individual class"
   ]
  },
  {
   "cell_type": "code",
   "execution_count": 10,
   "id": "df9161b7",
   "metadata": {},
   "outputs": [
    {
     "data": {
      "text/plain": [
       "Individual(['GeneSet(22, 29, 47, 0.89)', 'GeneSet(78, 64, 87, 1.56)'])"
      ]
     },
     "execution_count": 10,
     "metadata": {},
     "output_type": "execute_result"
    }
   ],
   "source": [
    "example_gene_set_two = params2.make_gene_set()\n",
    "gene_set_list = [example_gene_set, example_gene_set_two]\n",
    "example_individual = Individual(gene_set_list)\n",
    "example_individual"
   ]
  },
  {
   "cell_type": "markdown",
   "id": "c316db72",
   "metadata": {},
   "source": [
    "Getting the score for an indivudual"
   ]
  },
  {
   "cell_type": "code",
   "execution_count": 11,
   "id": "7d22c3ca",
   "metadata": {},
   "outputs": [
    {
     "data": {
      "text/plain": [
       "100"
      ]
     },
     "execution_count": 11,
     "metadata": {},
     "output_type": "execute_result"
    }
   ],
   "source": [
    "example_individual.get_score()\n",
    "example_individual.score"
   ]
  },
  {
   "cell_type": "markdown",
   "id": "2880e5d2",
   "metadata": {},
   "source": [
    "Breeding two individuals to create a child. Mutation is automatically performed during this"
   ]
  },
  {
   "cell_type": "code",
   "execution_count": 12,
   "id": "cdc42bef",
   "metadata": {},
   "outputs": [
    {
     "name": "stdout",
     "output_type": "stream",
     "text": [
      "Breeding Individual(['[22, 29, 47, 0.89]', '[78, 64, 87, 1.56]']) with Individual(['[22, 29, 47, 0.89]', '[78, 64, 87, 1.56]'])\n",
      "Created child Individual(['[22, 35, 47, 0.89]', '[54, 72, 57, 1.56]'])\n"
     ]
    }
   ],
   "source": [
    "example_individual_two = Individual(gene_set_list)\n",
    "print(f\"Breeding {example_individual} with {example_individual_two}\")\n",
    "child = breed_individuals(example_individual, example_individual_two)\n",
    "print(f\"Created child {child}\")"
   ]
  },
  {
   "cell_type": "markdown",
   "id": "7100c58c",
   "metadata": {},
   "source": [
    "For the GA we need to create a population of individuals, this can be done with the Population class. A list of GeneParameters classes is used."
   ]
  },
  {
   "cell_type": "code",
   "execution_count": 13,
   "id": "e5313a81",
   "metadata": {},
   "outputs": [
    {
     "data": {
      "text/plain": [
       "Population(4, 2, 12, 4, [GeneParameters(lower=1, upper=50, centres='{8, 7, 6, 1, 16, 17, 9}', neighbours='{8, 7, 6, 1, 16, 17, 9}', mu=0, mu_hat=0, nu=2, nu_hat=0, mutation_chance=0.5, min_cutoff=1, max_cutoff=50, min_sigma=0.1, max_sigma=0.9), GeneParameters(lower=51, upper=100, centres='{8, 7, 6, 1, 16, 17, 9}', neighbours='{8, 7, 6, 1, 16, 17, 9}', mu=0, mu_hat=0, nu=2, nu_hat=0, mutation_chance=0.5, min_cutoff=51, max_cutoff=100, min_sigma=1.1, max_sigma=1.9)], True)"
      ]
     },
     "execution_count": 13,
     "metadata": {},
     "output_type": "execute_result"
    }
   ],
   "source": [
    "gene_parameters = [params1, params2]\n",
    "pop = Population(best_sample, lucky_few, population_size, \n",
    "                 number_of_children, gene_parameters, \n",
    "                 maximise_scores = True)\n",
    "pop"
   ]
  },
  {
   "cell_type": "markdown",
   "id": "67256c6f",
   "metadata": {},
   "source": [
    "To initialise the population"
   ]
  },
  {
   "cell_type": "code",
   "execution_count": 14,
   "id": "aa2d35f4",
   "metadata": {},
   "outputs": [
    {
     "name": "stdout",
     "output_type": "stream",
     "text": [
      "Initial population of size 12 generated\n"
     ]
    }
   ],
   "source": [
    "pop.initialise_population()"
   ]
  },
  {
   "cell_type": "markdown",
   "id": "192821fe",
   "metadata": {},
   "source": [
    "If you want a way of neatly seeing what individuals are in the population"
   ]
  },
  {
   "cell_type": "code",
   "execution_count": 15,
   "id": "9033e428",
   "metadata": {},
   "outputs": [
    {
     "name": "stdout",
     "output_type": "stream",
     "text": [
      "Individual(['[36, 43, 5, 0.69]', '[55, 75, 93, 1.88]']) has a score of: 91\n",
      "Individual(['[44, 37, 40, 0.24]', '[86, 98, 58, 1.77]']) has a score of: 130\n",
      "Individual(['[35, 26, 47, 0.86]', '[96, 57, 84, 1.72]']) has a score of: 131\n",
      "Individual(['[37, 8, 25, 0.61]', '[62, 79, 85, 1.56]']) has a score of: 99\n",
      "Individual(['[30, 23, 7, 0.32]', '[91, 52, 52, 1.54]']) has a score of: 121\n",
      "Individual(['[31, 10, 9, 0.69]', '[95, 52, 75, 1.36]']) has a score of: 126\n",
      "Individual(['[6, 24, 46, 0.61]', '[98, 81, 72, 1.55]']) has a score of: 104\n",
      "Individual(['[43, 1, 47, 0.83]', '[65, 71, 84, 1.65]']) has a score of: 108\n",
      "Individual(['[42, 24, 9, 0.11]', '[60, 83, 91, 1.41]']) has a score of: 102\n",
      "Individual(['[34, 33, 9, 0.49]', '[98, 82, 93, 1.48]']) has a score of: 132\n",
      "Individual(['[36, 12, 36, 0.56]', '[60, 52, 97, 1.61]']) has a score of: 96\n",
      "Individual(['[6, 29, 44, 0.29]', '[75, 72, 57, 1.4]']) has a score of: 81\n"
     ]
    }
   ],
   "source": [
    "pop.print_population()"
   ]
  },
  {
   "cell_type": "markdown",
   "id": "dd056381",
   "metadata": {},
   "source": [
    "The next generation can then be generated "
   ]
  },
  {
   "cell_type": "code",
   "execution_count": 16,
   "id": "fc1ada74",
   "metadata": {},
   "outputs": [
    {
     "name": "stdout",
     "output_type": "stream",
     "text": [
      "Individual(['[6, 23, 7, 0.32]', '[62, 71, 84, 1.65]']) has a score of: 68\n",
      "Individual(['[43, 10, 40, 0.69]', '[86, 52, 58, 1.36]']) has a score of: 129\n",
      "Individual(['[37, 39, 9, 0.19]', '[96, 57, 84, 1.72]']) has a score of: 133\n",
      "Individual(['[44, 37, 9, 0.33]', '[86, 98, 78, 1.73]']) has a score of: 130\n",
      "Individual(['[34, 33, 47, 0.4]', '[67, 59, 93, 1.48]']) has a score of: 101\n",
      "Individual(['[43, 23, 7, 0.2]', '[91, 52, 52, 1.65]']) has a score of: 134\n",
      "Individual(['[35, 6, 9, 0.78]', '[98, 53, 84, 1.72]']) has a score of: 133\n",
      "Individual(['[30, 14, 39, 0.32]', '[91, 52, 52, 1.48]']) has a score of: 121\n",
      "Individual(['[9, 10, 15, 0.46]', '[64, 52, 58, 1.75]']) has a score of: 73\n",
      "Individual(['[19, 39, 20, 0.53]', '[91, 73, 59, 1.88]']) has a score of: 110\n",
      "Individual(['[9, 17, 40, 0.24]', '[86, 59, 58, 1.7]']) has a score of: 95\n",
      "Individual(['[8, 12, 21, 0.66]', '[96, 82, 80, 1.45]']) has a score of: 104\n"
     ]
    }
   ],
   "source": [
    "pop.next_generation()\n",
    "pop.print_population()"
   ]
  },
  {
   "cell_type": "markdown",
   "id": "b51bb01f",
   "metadata": {},
   "source": [
    "So to run the full GA "
   ]
  },
  {
   "cell_type": "code",
   "execution_count": 17,
   "id": "0039c114",
   "metadata": {},
   "outputs": [
    {
     "name": "stdout",
     "output_type": "stream",
     "text": [
      "Individual(['[16, 16, 4, 0.19]', '[70, 72, 68, 1.88]']) has a score of: 86\n",
      "Individual(['[16, 16, 9, 0.31]', '[87, 72, 78, 1.12]']) has a score of: 103\n",
      "Individual(['[43, 43, 17, 0.6]', '[65, 87, 99, 1.5]']) has a score of: 108\n",
      "Individual(['[36, 11, 9, 0.48]', '[96, 72, 83, 1.34]']) has a score of: 132\n",
      "Individual(['[46, 48, 12, 0.38]', '[94, 82, 97, 1.75]']) has a score of: 140\n",
      "Individual(['[30, 8, 12, 0.23]', '[78, 76, 63, 1.22]']) has a score of: 108\n",
      "Individual(['[35, 43, 17, 0.6]', '[53, 97, 56, 1.34]']) has a score of: 88\n",
      "Individual(['[20, 8, 32, 0.7]', '[94, 67, 73, 1.75]']) has a score of: 114\n",
      "Individual(['[20, 39, 39, 0.39]', '[90, 97, 77, 1.34]']) has a score of: 110\n",
      "Individual(['[12, 5, 19, 0.23]', '[95, 64, 52, 1.34]']) has a score of: 107\n",
      "Individual(['[32, 43, 44, 0.6]', '[90, 79, 56, 1.64]']) has a score of: 122\n",
      "Individual(['[10, 30, 42, 0.11]', '[62, 71, 68, 1.28]']) has a score of: 72\n"
     ]
    }
   ],
   "source": [
    "for _ in range(num_gens):\n",
    "    pop.next_generation()\n",
    "pop.print_population()"
   ]
  },
  {
   "cell_type": "code",
   "execution_count": 18,
   "id": "e7ac7d79",
   "metadata": {},
   "outputs": [],
   "source": [
    "hist = BestHistory(early_stop = 2, early_number = 3, min_generations = 5 )"
   ]
  },
  {
   "cell_type": "code",
   "execution_count": 19,
   "id": "d7aef0e5",
   "metadata": {},
   "outputs": [
    {
     "name": "stdout",
     "output_type": "stream",
     "text": [
      "Initial population of size 12 generated\n"
     ]
    }
   ],
   "source": [
    "pop.initialise_population()"
   ]
  },
  {
   "cell_type": "code",
   "execution_count": 20,
   "id": "69364214",
   "metadata": {},
   "outputs": [
    {
     "name": "stdout",
     "output_type": "stream",
     "text": [
      "Individual(['[48, 39, 31, 0.22]', '[92, 63, 61, 1.28]']) has a score of: 140\n",
      "Individual(['[39, 43, 6, 0.7]', '[98, 80, 84, 1.13]']) has a score of: 137\n",
      "Individual(['[44, 45, 29, 0.52]', '[85, 55, 63, 1.78]']) has a score of: 129\n",
      "Individual(['[47, 39, 29, 0.23]', '[77, 98, 51, 1.63]']) has a score of: 124\n",
      "Individual(['[35, 12, 18, 0.48]', '[84, 52, 78, 1.8]']) has a score of: 119\n",
      "Individual(['[27, 16, 48, 0.58]', '[92, 64, 96, 1.25]']) has a score of: 119\n",
      "Individual(['[49, 31, 13, 0.39]', '[70, 77, 70, 1.6]']) has a score of: 119\n",
      "Individual(['[43, 26, 44, 0.76]', '[71, 78, 60, 1.18]']) has a score of: 114\n",
      "Individual(['[9, 12, 36, 0.52]', '[92, 75, 81, 1.61]']) has a score of: 101\n",
      "Individual(['[7, 38, 39, 0.22]', '[84, 96, 88, 1.31]']) has a score of: 91\n",
      "Individual(['[18, 24, 42, 0.79]', '[52, 65, 68, 1.64]']) has a score of: 70\n",
      "Individual(['[11, 32, 9, 0.39]', '[51, 98, 90, 1.2]']) has a score of: 62\n"
     ]
    }
   ],
   "source": [
    "pop.sort_population()\n",
    "pop.print_population()"
   ]
  },
  {
   "cell_type": "code",
   "execution_count": 21,
   "id": "64223c3d",
   "metadata": {},
   "outputs": [],
   "source": [
    "hist.append(pop)"
   ]
  },
  {
   "cell_type": "code",
   "execution_count": 22,
   "id": "34a5b1cf",
   "metadata": {},
   "outputs": [
    {
     "name": "stdout",
     "output_type": "stream",
     "text": [
      "Individual(['[48, 39, 17, 0.7]', '[92, 80, 87, 1.28]']) has a score of: 140\n",
      "Individual(['[34, 45, 43, 0.52]', '[97, 65, 51, 1.71]']) has a score of: 131\n",
      "Individual(['[44, 11, 29, 0.52]', '[81, 68, 63, 1.63]']) has a score of: 125\n",
      "Individual(['[39, 31, 48, 0.49]', '[84, 62, 51, 1.68]']) has a score of: 123\n",
      "Individual(['[47, 39, 43, 0.16]', '[75, 63, 62, 1.54]']) has a score of: 122\n",
      "Individual(['[39, 3, 28, 0.2]', '[79, 80, 61, 1.13]']) has a score of: 118\n",
      "Individual(['[29, 8, 18, 0.48]', '[84, 64, 78, 1.8]']) has a score of: 113\n",
      "Individual(['[19, 46, 31, 0.7]', '[92, 68, 97, 1.28]']) has a score of: 111\n",
      "Individual(['[27, 13, 48, 0.18]', '[69, 52, 96, 1.8]']) has a score of: 96\n",
      "Individual(['[44, 38, 35, 0.23]', '[51, 96, 51, 1.77]']) has a score of: 95\n",
      "Individual(['[1, 2, 48, 0.48]', '[92, 52, 61, 1.43]']) has a score of: 93\n",
      "Individual(['[4, 39, 29, 0.23]', '[77, 75, 63, 1.78]']) has a score of: 81\n"
     ]
    },
    {
     "ename": "TypeError",
     "evalue": "Trying to append population of different type",
     "output_type": "error",
     "traceback": [
      "\u001b[0;31m---------------------------------------------------------------------------\u001b[0m",
      "\u001b[0;31mTypeError\u001b[0m                                 Traceback (most recent call last)",
      "Cell \u001b[0;32mIn [22], line 4\u001b[0m\n\u001b[1;32m      2\u001b[0m pop\u001b[38;5;241m.\u001b[39msort_population()\n\u001b[1;32m      3\u001b[0m pop\u001b[38;5;241m.\u001b[39mprint_population()\n\u001b[0;32m----> 4\u001b[0m \u001b[43mhist\u001b[49m\u001b[38;5;241;43m.\u001b[39;49m\u001b[43mappend\u001b[49m\u001b[43m(\u001b[49m\u001b[43mpop\u001b[49m\u001b[43m)\u001b[49m\n\u001b[1;32m      5\u001b[0m hist\u001b[38;5;241m.\u001b[39mhistory\n",
      "File \u001b[0;32m~/Documents/SOAP_GAS/refactoring.py:423\u001b[0m, in \u001b[0;36mBestHistory.append\u001b[0;34m(self, population)\u001b[0m\n\u001b[1;32m    421\u001b[0m \u001b[38;5;28;01mif\u001b[39;00m \u001b[38;5;28mself\u001b[39m\u001b[38;5;241m.\u001b[39mhistory:\n\u001b[1;32m    422\u001b[0m     \u001b[38;5;28;01mif\u001b[39;00m \u001b[38;5;129;01mnot\u001b[39;00m \u001b[38;5;28mself\u001b[39m\u001b[38;5;241m.\u001b[39mhistory[\u001b[38;5;241m-\u001b[39m\u001b[38;5;241m1\u001b[39m] \u001b[38;5;241m==\u001b[39m population\u001b[38;5;241m.\u001b[39mpopulation[\u001b[38;5;241m0\u001b[39m]:\n\u001b[0;32m--> 423\u001b[0m         \u001b[38;5;28;01mraise\u001b[39;00m \u001b[38;5;167;01mTypeError\u001b[39;00m(\u001b[38;5;124m\"\u001b[39m\u001b[38;5;124mTrying to append population of different \u001b[39m\u001b[38;5;124m\"\u001b[39m\n\u001b[1;32m    424\u001b[0m                         \u001b[38;5;124m\"\u001b[39m\u001b[38;5;124mtype\u001b[39m\u001b[38;5;124m\"\u001b[39m)\n\u001b[1;32m    425\u001b[0m population\u001b[38;5;241m.\u001b[39msort_population()\n\u001b[1;32m    426\u001b[0m \u001b[38;5;28mself\u001b[39m\u001b[38;5;241m.\u001b[39mhistory\u001b[38;5;241m.\u001b[39mappend(population\u001b[38;5;241m.\u001b[39mpopulation[\u001b[38;5;241m0\u001b[39m])\n",
      "\u001b[0;31mTypeError\u001b[0m: Trying to append population of different type"
     ]
    }
   ],
   "source": [
    "pop.next_generation()\n",
    "pop.sort_population()\n",
    "pop.print_population()\n",
    "hist.append(pop)\n",
    "hist.history"
   ]
  },
  {
   "cell_type": "code",
   "execution_count": null,
   "id": "7caff96c",
   "metadata": {},
   "outputs": [],
   "source": [
    "pop.print_population()"
   ]
  },
  {
   "cell_type": "code",
   "execution_count": null,
   "id": "5f9a0eda",
   "metadata": {},
   "outputs": [],
   "source": []
  }
 ],
 "metadata": {
  "kernelspec": {
   "display_name": "Python 3 (ipykernel)",
   "language": "python",
   "name": "python3"
  },
  "language_info": {
   "codemirror_mode": {
    "name": "ipython",
    "version": 3
   },
   "file_extension": ".py",
   "mimetype": "text/x-python",
   "name": "python",
   "nbconvert_exporter": "python",
   "pygments_lexer": "ipython3",
   "version": "3.9.6"
  }
 },
 "nbformat": 4,
 "nbformat_minor": 5
}
