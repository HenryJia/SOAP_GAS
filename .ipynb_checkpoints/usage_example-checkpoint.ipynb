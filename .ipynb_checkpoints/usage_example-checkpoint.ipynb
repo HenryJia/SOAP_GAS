{
 "cells": [
  {
   "cell_type": "markdown",
   "id": "9e26ef0c",
   "metadata": {},
   "source": [
    "## Before running"
   ]
  },
  {
   "cell_type": "markdown",
   "id": "11959e51",
   "metadata": {},
   "source": [
    "A virtual environment can be created using \n",
    "- 'pipenv install'\n",
    "- 'pipenv shell'\n",
    "\n",
    "This will allow us to all use the same packages and versions. They are listed in the Pipfile"
   ]
  },
  {
   "cell_type": "code",
   "execution_count": 1,
   "id": "290624e9",
   "metadata": {},
   "outputs": [],
   "source": [
    "from refactoring import *\n",
    "# from ase.geometry.analysis import Analysis\n",
    "# import pandas as pd\n",
    "# from sklearn.model_selection import RepeatedKFold\n",
    "# from dataclasses import dataclass\n",
    "# from quippy import descriptors\n",
    "# import ase\n",
    "# import subprocess\n",
    "# from pathlib import Path\n",
    "# import os\n",
    "# import pickle as pkl\n",
    "# from random import sample, shuffle, choice, choices\n",
    "# import numpy as np\n"
   ]
  },
  {
   "cell_type": "code",
   "execution_count": null,
   "id": "82529890",
   "metadata": {},
   "outputs": [],
   "source": []
  },
  {
   "cell_type": "markdown",
   "id": "9abf6067",
   "metadata": {},
   "source": [
    "## Inputs"
   ]
  },
  {
   "cell_type": "markdown",
   "id": "b7b3a8c5",
   "metadata": {},
   "source": [
    "Dictionaries are taken as input from a parameter file, they contain the parameters for each soap descriptor"
   ]
  },
  {
   "cell_type": "code",
   "execution_count": 2,
   "id": "a65c9154",
   "metadata": {},
   "outputs": [],
   "source": [
    "descDict1 = {'lower': 1, 'upper': 50, 'centres': '{8, 7, 6, 1, 16, 17, 9}',\n",
    "             'neighbours': '{8, 7, 6, 1, 16, 17, 9}', 'mu': 0, \n",
    "             'mu_hat': 0, 'nu': 2, 'nu_hat': 0, 'mutation_chance': 0.50, \n",
    "             'min_cutoff': 1, 'max_cutoff': 50, 'min_sigma': 0.1, \n",
    "             'max_sigma': 0.9,\n",
    "             'message_steps': 8}\n",
    "\n",
    "descDict2 = {'lower': 51, 'upper': 100, 'centres': '{8, 7, 6, 1, 16, 17, 9}',\n",
    "             'neighbours': '{8, 7, 6, 1, 16, 17, 9}', 'mu': 0, \n",
    "             'mu_hat': 0, 'nu': 2, 'nu_hat': 0, 'mutation_chance': 0.50,\n",
    "             'min_cutoff': 51, 'max_cutoff': 100, 'min_sigma': 1.1, \n",
    "             'max_sigma': 1.9,\n",
    "             'message_steps': 8}"
   ]
  },
  {
   "cell_type": "markdown",
   "id": "83e31fb5",
   "metadata": {},
   "source": [
    "Other parameters are also taken as input. These are automatically checked that the parameters are viable"
   ]
  },
  {
   "cell_type": "code",
   "execution_count": 3,
   "id": "bb86204d",
   "metadata": {},
   "outputs": [],
   "source": [
    "num_gens = 100\n",
    "best_sample, lucky_few, population_size, number_of_children = 4, 2, 12, 4\n",
    "early_stop = 2\n",
    "early_number = 3 \n",
    "min_generations = 5"
   ]
  },
  {
   "cell_type": "markdown",
   "id": "c9d7f5e1",
   "metadata": {},
   "source": [
    "## GeneParameter"
   ]
  },
  {
   "cell_type": "markdown",
   "id": "94a756a1",
   "metadata": {},
   "source": [
    "GeneParameter class is created from each descriptor dictionary. "
   ]
  },
  {
   "cell_type": "code",
   "execution_count": 4,
   "id": "c6a220fc",
   "metadata": {},
   "outputs": [],
   "source": [
    "params1 = GeneParameters(**descDict1)\n",
    "params2 = GeneParameters(**descDict2)"
   ]
  },
  {
   "cell_type": "code",
   "execution_count": 5,
   "id": "c3c2af77",
   "metadata": {},
   "outputs": [
    {
     "data": {
      "text/plain": [
       "GeneParameters(lower=1, upper=50, centres='{8, 7, 6, 1, 16, 17, 9}', neighbours='{8, 7, 6, 1, 16, 17, 9}', mu=0, mu_hat=0, nu=2, nu_hat=0, mutation_chance=0.5, min_cutoff=1, max_cutoff=50, min_sigma=0.1, max_sigma=0.9, message_steps=8)"
      ]
     },
     "execution_count": 5,
     "metadata": {},
     "output_type": "execute_result"
    }
   ],
   "source": [
    "params1"
   ]
  },
  {
   "cell_type": "markdown",
   "id": "f8736b78",
   "metadata": {},
   "source": [
    "## GeneSet"
   ]
  },
  {
   "cell_type": "markdown",
   "id": "6cb6ee73",
   "metadata": {},
   "source": [
    "We can use these classes to create a specific set of parameters that are consistant with these values. This returns a randomly generated GeneSet class"
   ]
  },
  {
   "cell_type": "code",
   "execution_count": 6,
   "id": "cb110b00",
   "metadata": {},
   "outputs": [
    {
     "data": {
      "text/plain": [
       "GeneSet(9, 4, 13, 0.83)"
      ]
     },
     "execution_count": 6,
     "metadata": {},
     "output_type": "execute_result"
    }
   ],
   "source": [
    "example_gene_set = params1.make_gene_set()\n",
    "example_gene_set"
   ]
  },
  {
   "cell_type": "markdown",
   "id": "abc0b2f4",
   "metadata": {},
   "source": [
    "We can get the parameters used to create the GeneSet class"
   ]
  },
  {
   "cell_type": "code",
   "execution_count": 7,
   "id": "75f3f54a",
   "metadata": {},
   "outputs": [
    {
     "data": {
      "text/plain": [
       "GeneParameters(lower=1, upper=50, centres='{8, 7, 6, 1, 16, 17, 9}', neighbours='{8, 7, 6, 1, 16, 17, 9}', mu=0, mu_hat=0, nu=2, nu_hat=0, mutation_chance=0.5, min_cutoff=1, max_cutoff=50, min_sigma=0.1, max_sigma=0.9, message_steps=8)"
      ]
     },
     "execution_count": 7,
     "metadata": {},
     "output_type": "execute_result"
    }
   ],
   "source": [
    "example_gene_set.gene_parameters"
   ]
  },
  {
   "cell_type": "markdown",
   "id": "71514327",
   "metadata": {},
   "source": [
    "We can get a descriptor string to be used as an input for getting SOAPs"
   ]
  },
  {
   "cell_type": "code",
   "execution_count": 8,
   "id": "c02e1b69",
   "metadata": {},
   "outputs": [
    {
     "data": {
      "text/plain": [
       "'soap cutoff=9 l_max=4 n_max=13 atom_sigma=0.83 n_Z=7 Z={8, 7, 6, 1, 16, 17, 9} n_species=7 species_Z={8, 7, 6, 1, 16, 17, 9} mu=0 mu_hat=0 nu=2 nu_hat=0'"
      ]
     },
     "execution_count": 8,
     "metadata": {},
     "output_type": "execute_result"
    }
   ],
   "source": [
    "example_gene_set.get_soap_string()"
   ]
  },
  {
   "cell_type": "markdown",
   "id": "f9735a2b",
   "metadata": {},
   "source": [
    "We can also mutate the gene using the mutation chance in the GeneParameters class"
   ]
  },
  {
   "cell_type": "code",
   "execution_count": 9,
   "id": "d07dab90",
   "metadata": {},
   "outputs": [
    {
     "name": "stdout",
     "output_type": "stream",
     "text": [
      "Before mutation [9, 4, 13, 0.83]\n",
      "After mutation [9, 4, 20, 0.81]\n"
     ]
    }
   ],
   "source": [
    "print(f\"Before mutation {example_gene_set}\")\n",
    "example_gene_set.mutate_gene()\n",
    "print(f\"After mutation {example_gene_set}\")"
   ]
  },
  {
   "cell_type": "code",
   "execution_count": null,
   "id": "07d91d12",
   "metadata": {},
   "outputs": [],
   "source": []
  },
  {
   "cell_type": "code",
   "execution_count": null,
   "id": "f7365a88",
   "metadata": {},
   "outputs": [],
   "source": []
  },
  {
   "cell_type": "markdown",
   "id": "b079180e",
   "metadata": {},
   "source": [
    "## Individual"
   ]
  },
  {
   "cell_type": "markdown",
   "id": "d3581dd2",
   "metadata": {},
   "source": [
    "An Individual is made up of a list of GeneSet classes."
   ]
  },
  {
   "cell_type": "code",
   "execution_count": 10,
   "id": "df9161b7",
   "metadata": {},
   "outputs": [
    {
     "data": {
      "text/plain": [
       "Individual(['GeneSet(9, 4, 20, 0.81)', 'GeneSet(92, 88, 84, 1.8)'])"
      ]
     },
     "execution_count": 10,
     "metadata": {},
     "output_type": "execute_result"
    }
   ],
   "source": [
    "example_gene_set_two = params2.make_gene_set()\n",
    "gene_set_list = [example_gene_set, example_gene_set_two]\n",
    "example_individual = Individual(gene_set_list)\n",
    "example_individual"
   ]
  },
  {
   "cell_type": "code",
   "execution_count": null,
   "id": "ad2c7c1d",
   "metadata": {},
   "outputs": [],
   "source": []
  },
  {
   "cell_type": "markdown",
   "id": "c316db72",
   "metadata": {},
   "source": [
    "Getting the score for an indivudual"
   ]
  },
  {
   "cell_type": "code",
   "execution_count": 11,
   "id": "7d22c3ca",
   "metadata": {},
   "outputs": [
    {
     "data": {
      "text/plain": [
       "101"
      ]
     },
     "execution_count": 11,
     "metadata": {},
     "output_type": "execute_result"
    }
   ],
   "source": [
    "example_individual.get_score()\n",
    "example_individual.score"
   ]
  },
  {
   "cell_type": "markdown",
   "id": "2880e5d2",
   "metadata": {},
   "source": [
    "Breeding two individuals to create a child. Mutation is automatically performed during this"
   ]
  },
  {
   "cell_type": "code",
   "execution_count": 12,
   "id": "cdc42bef",
   "metadata": {},
   "outputs": [
    {
     "name": "stdout",
     "output_type": "stream",
     "text": [
      "Breeding Individual(['[9, 4, 20, 0.81]', '[92, 88, 84, 1.8]']) with Individual(['[9, 4, 20, 0.81]', '[92, 88, 84, 1.8]'])\n",
      "Created child Individual(['[9, 4, 20, 0.81]', '[75, 51, 69, 1.16]'])\n"
     ]
    }
   ],
   "source": [
    "example_individual_two = Individual(gene_set_list)\n",
    "print(f\"Breeding {example_individual} with {example_individual_two}\")\n",
    "child = breed_individuals(example_individual, example_individual_two)\n",
    "print(f\"Created child {child}\")"
   ]
  },
  {
   "cell_type": "markdown",
   "id": "da9ba698",
   "metadata": {},
   "source": [
    "## Population"
   ]
  },
  {
   "cell_type": "markdown",
   "id": "7100c58c",
   "metadata": {},
   "source": [
    "A Population is a collection of Individual classes. This can be created using a list of GeneParameter classes"
   ]
  },
  {
   "cell_type": "code",
   "execution_count": 13,
   "id": "e5313a81",
   "metadata": {},
   "outputs": [
    {
     "data": {
      "text/plain": [
       "Population(4, 2, 12, 4, [GeneParameters(lower=1, upper=50, centres='{8, 7, 6, 1, 16, 17, 9}', neighbours='{8, 7, 6, 1, 16, 17, 9}', mu=0, mu_hat=0, nu=2, nu_hat=0, mutation_chance=0.5, min_cutoff=1, max_cutoff=50, min_sigma=0.1, max_sigma=0.9, message_steps=8), GeneParameters(lower=51, upper=100, centres='{8, 7, 6, 1, 16, 17, 9}', neighbours='{8, 7, 6, 1, 16, 17, 9}', mu=0, mu_hat=0, nu=2, nu_hat=0, mutation_chance=0.5, min_cutoff=51, max_cutoff=100, min_sigma=1.1, max_sigma=1.9, message_steps=8)], True)"
      ]
     },
     "execution_count": 13,
     "metadata": {},
     "output_type": "execute_result"
    }
   ],
   "source": [
    "gene_parameters = [params1, params2]\n",
    "pop = Population(best_sample, lucky_few, population_size, \n",
    "                 number_of_children, gene_parameters, \n",
    "                 maximise_scores = True)\n",
    "pop"
   ]
  },
  {
   "cell_type": "markdown",
   "id": "67256c6f",
   "metadata": {},
   "source": [
    "To initialise the population"
   ]
  },
  {
   "cell_type": "code",
   "execution_count": 14,
   "id": "aa2d35f4",
   "metadata": {},
   "outputs": [
    {
     "name": "stdout",
     "output_type": "stream",
     "text": [
      "Initial population of size 12 generated\n"
     ]
    }
   ],
   "source": [
    "pop.initialise_population()"
   ]
  },
  {
   "cell_type": "markdown",
   "id": "192821fe",
   "metadata": {},
   "source": [
    "If you want a way of neatly seeing what individuals are in the population"
   ]
  },
  {
   "cell_type": "code",
   "execution_count": 15,
   "id": "9033e428",
   "metadata": {},
   "outputs": [
    {
     "name": "stdout",
     "output_type": "stream",
     "text": [
      "Individual(['[35, 40, 8, 0.63]', '[88, 58, 68, 1.21]']) has a score of: 123\n",
      "Individual(['[15, 42, 25, 0.61]', '[66, 57, 93, 1.57]']) has a score of: 81\n",
      "Individual(['[12, 19, 32, 0.37]', '[62, 92, 96, 1.51]']) has a score of: 74\n",
      "Individual(['[16, 4, 28, 0.67]', '[87, 54, 92, 1.71]']) has a score of: 103\n",
      "Individual(['[22, 17, 4, 0.49]', '[86, 95, 90, 1.46]']) has a score of: 108\n",
      "Individual(['[42, 18, 27, 0.85]', '[72, 60, 80, 1.65]']) has a score of: 114\n",
      "Individual(['[16, 3, 32, 0.63]', '[98, 71, 82, 1.14]']) has a score of: 114\n",
      "Individual(['[36, 7, 3, 0.88]', '[88, 91, 82, 1.36]']) has a score of: 124\n",
      "Individual(['[46, 8, 16, 0.41]', '[97, 52, 65, 1.53]']) has a score of: 143\n",
      "Individual(['[39, 15, 21, 0.26]', '[72, 70, 66, 1.4]']) has a score of: 111\n",
      "Individual(['[38, 9, 5, 0.21]', '[86, 55, 85, 1.8]']) has a score of: 124\n",
      "Individual(['[12, 25, 34, 0.51]', '[87, 58, 87, 1.1]']) has a score of: 99\n"
     ]
    }
   ],
   "source": [
    "pop.print_population()"
   ]
  },
  {
   "cell_type": "markdown",
   "id": "dd056381",
   "metadata": {},
   "source": [
    "The next generation can then be generated "
   ]
  },
  {
   "cell_type": "code",
   "execution_count": 16,
   "id": "fc1ada74",
   "metadata": {},
   "outputs": [
    {
     "name": "stdout",
     "output_type": "stream",
     "text": [
      "Individual(['[12, 25, 29, 0.32]', '[98, 71, 82, 1.28]']) has a score of: 110\n",
      "Individual(['[9, 37, 6, 0.46]', '[86, 58, 68, 1.21]']) has a score of: 95\n",
      "Individual(['[30, 7, 16, 0.36]', '[97, 52, 70, 1.5]']) has a score of: 127\n",
      "Individual(['[35, 9, 3, 0.81]', '[86, 90, 85, 1.21]']) has a score of: 121\n",
      "Individual(['[3, 38, 34, 0.63]', '[55, 64, 61, 1.14]']) has a score of: 58\n",
      "Individual(['[39, 40, 26, 0.85]', '[95, 95, 68, 1.21]']) has a score of: 134\n",
      "Individual(['[3, 32, 34, 0.51]', '[89, 71, 87, 1.54]']) has a score of: 92\n",
      "Individual(['[46, 47, 16, 0.49]', '[97, 61, 92, 1.36]']) has a score of: 143\n",
      "Individual(['[4, 5, 32, 0.78]', '[87, 98, 82, 1.14]']) has a score of: 91\n",
      "Individual(['[3, 5, 3, 0.41]', '[56, 52, 94, 1.18]']) has a score of: 59\n",
      "Individual(['[45, 27, 16, 0.41]', '[81, 64, 51, 1.5]']) has a score of: 126\n",
      "Individual(['[45, 35, 42, 0.7]', '[53, 90, 85, 1.63]']) has a score of: 98\n"
     ]
    }
   ],
   "source": [
    "pop.next_generation()\n",
    "pop.print_population()"
   ]
  },
  {
   "cell_type": "markdown",
   "id": "b51bb01f",
   "metadata": {},
   "source": [
    "So to run the full GA "
   ]
  },
  {
   "cell_type": "code",
   "execution_count": 17,
   "id": "0039c114",
   "metadata": {},
   "outputs": [
    {
     "name": "stdout",
     "output_type": "stream",
     "text": [
      "Individual(['[26, 46, 40, 0.35]', '[90, 70, 96, 1.68]']) has a score of: 116\n",
      "Individual(['[43, 49, 35, 0.56]', '[84, 99, 65, 1.56]']) has a score of: 127\n",
      "Individual(['[27, 43, 37, 0.84]', '[93, 97, 96, 1.69]']) has a score of: 120\n",
      "Individual(['[9, 27, 40, 0.22]', '[90, 68, 63, 1.68]']) has a score of: 99\n",
      "Individual(['[7, 44, 18, 0.24]', '[55, 96, 78, 1.67]']) has a score of: 62\n",
      "Individual(['[34, 20, 18, 0.48]', '[99, 86, 55, 1.75]']) has a score of: 133\n",
      "Individual(['[46, 24, 18, 0.23]', '[97, 51, 65, 1.33]']) has a score of: 143\n",
      "Individual(['[38, 19, 45, 0.26]', '[84, 59, 90, 1.41]']) has a score of: 122\n",
      "Individual(['[9, 13, 18, 0.16]', '[64, 92, 78, 1.79]']) has a score of: 73\n",
      "Individual(['[4, 19, 30, 0.12]', '[85, 68, 90, 1.56]']) has a score of: 89\n",
      "Individual(['[48, 22, 11, 0.66]', '[55, 94, 66, 1.54]']) has a score of: 103\n",
      "Individual(['[49, 27, 40, 0.84]', '[93, 99, 96, 1.68]']) has a score of: 142\n"
     ]
    }
   ],
   "source": [
    "for _ in range(num_gens):\n",
    "    pop.next_generation()\n",
    "pop.print_population()"
   ]
  },
  {
   "cell_type": "markdown",
   "id": "9a0fe158",
   "metadata": {},
   "source": [
    "## BestHistory"
   ]
  },
  {
   "cell_type": "markdown",
   "id": "048730bb",
   "metadata": {},
   "source": [
    "BestHistory is a class to store the history and check convergence criteria. So the entire GA can be run, printed, and saved using the following code snippet:"
   ]
  },
  {
   "cell_type": "code",
   "execution_count": 18,
   "id": "e0272354",
   "metadata": {},
   "outputs": [
    {
     "name": "stdout",
     "output_type": "stream",
     "text": [
      "Initial population of size 12 generated\n",
      "Generation 0\n",
      "Best Individual Individual(['[45, 5, 9, 0.17]', '[99, 89, 51, 1.37]']) with a score of 144 added to history\n",
      "-------\n",
      "Generation 1\n",
      "Best Individual Individual(['[47, 47, 4, 0.12]', '[98, 98, 69, 1.54]']) with a score of 145 added to history\n",
      "-------\n",
      "Generation 2\n",
      "Best Individual Individual(['[47, 5, 34, 0.12]', '[99, 60, 57, 1.31]']) with a score of 146 added to history\n",
      "-------\n",
      "Generation 3\n",
      "Best Individual Individual(['[47, 23, 34, 0.37]', '[99, 81, 93, 1.39]']) with a score of 146 added to history\n",
      "-------\n",
      "Generation 4\n",
      "Best Individual Individual(['[47, 1, 4, 0.29]', '[98, 81, 96, 1.71]']) with a score of 145 added to history\n",
      "SOAP_GAS has converged\n",
      "-------\n"
     ]
    }
   ],
   "source": [
    "hist = BestHistory(early_stop, early_number, min_generations)\n",
    "pop = Population(best_sample, lucky_few, population_size, \n",
    "                 number_of_children, gene_parameters, \n",
    "                 maximise_scores = True)\n",
    "\n",
    "pop.initialise_population()    \n",
    "for gen in range(num_gens):\n",
    "    if hist.converged:\n",
    "        break\n",
    "    print(f\"Generation {gen}\")\n",
    "    pop.next_generation()\n",
    "    hist.append(pop)\n",
    "    print(\"-------\")"
   ]
  },
  {
   "cell_type": "markdown",
   "id": "fe539129",
   "metadata": {},
   "source": [
    "There now exists the entire history of the best Individuals throughout each generation that can be saved and easily accessed. "
   ]
  },
  {
   "cell_type": "code",
   "execution_count": 19,
   "id": "58f53c62",
   "metadata": {},
   "outputs": [
    {
     "data": {
      "text/plain": [
       "{'history': [Individual(['GeneSet(45, 5, 9, 0.17)', 'GeneSet(99, 89, 51, 1.37)']),\n",
       "  Individual(['GeneSet(47, 47, 4, 0.12)', 'GeneSet(98, 98, 69, 1.54)']),\n",
       "  Individual(['GeneSet(47, 5, 34, 0.12)', 'GeneSet(99, 60, 57, 1.31)']),\n",
       "  Individual(['GeneSet(47, 23, 34, 0.37)', 'GeneSet(99, 81, 93, 1.39)']),\n",
       "  Individual(['GeneSet(47, 1, 4, 0.29)', 'GeneSet(98, 81, 96, 1.71)'])],\n",
       " 'converged': True,\n",
       " 'early_stop': 2,\n",
       " 'early_number': 3,\n",
       " 'min_generations': 5}"
      ]
     },
     "execution_count": 19,
     "metadata": {},
     "output_type": "execute_result"
    }
   ],
   "source": [
    "vars(hist)"
   ]
  },
  {
   "cell_type": "code",
   "execution_count": 20,
   "id": "052cbdbb",
   "metadata": {},
   "outputs": [],
   "source": [
    "example_gene_set.cutoff = 5\n",
    "example_gene_set.l_max = 3\n",
    "example_gene_set.n_max = 6"
   ]
  },
  {
   "cell_type": "code",
   "execution_count": 21,
   "id": "6fa0d5a3",
   "metadata": {},
   "outputs": [
    {
     "name": "stdout",
     "output_type": "stream",
     "text": [
      "conf_s file exists\n"
     ]
    }
   ],
   "source": [
    "test_ind = Individual([example_gene_set])\n",
    "conf_s, data = get_conf()"
   ]
  },
  {
   "cell_type": "code",
   "execution_count": 22,
   "id": "9dac345a",
   "metadata": {},
   "outputs": [
    {
     "data": {
      "text/plain": [
       "[Atoms(symbols='COC6NCOC4ClC7O2C2O2H18', pbc=False),\n",
       " Atoms(symbols='C2ONC6OH9', pbc=False),\n",
       " Atoms(symbols='C3SO2C6FCONC7NCF3OH14', pbc=False),\n",
       " Atoms(symbols='C6NC6NC3OC7NOH25', pbc=False),\n",
       " Atoms(symbols='C25H34O6', pbc=False),\n",
       " Atoms(symbols='C3SCONC5O2H15', pbc=False),\n",
       " Atoms(symbols='COC6OC2NC3OC12NOH26', pbc=False),\n",
       " Atoms(symbols='C10N2C6SO2NCF3H14', pbc=False),\n",
       " Atoms(symbols='C9ONCOCCl2ONO2H12', pbc=False),\n",
       " Atoms(symbols='C2NC2NC22H28', pbc=False),\n",
       " Atoms(symbols='C14ClOC6NCH26', pbc=False),\n",
       " Atoms(symbols='C19ClNC2NCH17', pbc=False),\n",
       " Atoms(symbols='C12OC10NOH27', pbc=False),\n",
       " Atoms(symbols='C2OCSCONC3NCONFH10', pbc=False),\n",
       " Atoms(symbols='C10OC8OH24', pbc=False),\n",
       " Atoms(symbols='C9ONC6FC9FO2H21', pbc=False),\n",
       " Atoms(symbols='C2OCOC2NC9Cl2CO2C3H19', pbc=False),\n",
       " Atoms(symbols='C14FCO2H13', pbc=False),\n",
       " Atoms(symbols='C7O2C3O2NC7NC2ClH17', pbc=False),\n",
       " Atoms(symbols='C23H28ClN3O5S', pbc=False),\n",
       " Atoms(symbols='CNC6SO2NSO2NClH8', pbc=False),\n",
       " Atoms(symbols='C5OC14OCO2COH30', pbc=False),\n",
       " Atoms(symbols='CNC7F3SO2NSO2NH8', pbc=False),\n",
       " Atoms(symbols='C13O2H18', pbc=False),\n",
       " Atoms(symbols='C5NCOC6ClC4OC3O2H16', pbc=False),\n",
       " Atoms(symbols='C6NC2O2C8NONC2O2CH21', pbc=False),\n",
       " Atoms(symbols='C9OC7O2H14', pbc=False),\n",
       " Atoms(symbols='C9NC4NCNC5ONC2OH26', pbc=False),\n",
       " Atoms(symbols='C2NC7ONC7SO2NClH16', pbc=False),\n",
       " Atoms(symbols='C10OC5OC3H26', pbc=False),\n",
       " Atoms(symbols='C6NC2O2C7NO2CO2CH18', pbc=False),\n",
       " Atoms(symbols='CSO2NC6NO3C6H12', pbc=False),\n",
       " Atoms(symbols='CNC2NO2NC2SC3SCNCNC2H21', pbc=False),\n",
       " Atoms(symbols='C29H53NO5', pbc=False),\n",
       " Atoms(symbols='C4NCNC6OCONC3H21', pbc=False),\n",
       " Atoms(symbols='C28H29F2N3O', pbc=False),\n",
       " Atoms(symbols='C25H38O5', pbc=False),\n",
       " Atoms(symbols='C24H32O4S', pbc=False),\n",
       " Atoms(symbols='C13SOC5FC2O2H17', pbc=False),\n",
       " Atoms(symbols='C16OC2NC8H29', pbc=False),\n",
       " Atoms(symbols='C3NCNC2NCNCNOCPO3H14', pbc=False),\n",
       " Atoms(symbols='C10OC5OC4H28', pbc=False),\n",
       " Atoms(symbols='C2SO2C2NCNC2NO2CH13', pbc=False),\n",
       " Atoms(symbols='C7SO2NCON2C6H21', pbc=False),\n",
       " Atoms(symbols='C2OC16OCO2H16', pbc=False),\n",
       " Atoms(symbols='CNC5NC9OCONH21', pbc=False),\n",
       " Atoms(symbols='C3SC6NCN2CO2CH15', pbc=False),\n",
       " Atoms(symbols='C14NCONH12', pbc=False),\n",
       " Atoms(symbols='C4OC4OC2OC4OCOCClOCH17', pbc=False),\n",
       " Atoms(symbols='C6O2C2OC3O3CO5H22', pbc=False),\n",
       " Atoms(symbols='C2NCSNCN2CSC3NSO2N2H15', pbc=False),\n",
       " Atoms(symbols='C3NC3OC3SOCNC2NC4OCH19', pbc=False),\n",
       " Atoms(symbols='C2OC6NCOC3OH17', pbc=False),\n",
       " Atoms(symbols='C4OC8ONOH17', pbc=False),\n",
       " Atoms(symbols='CNCNC3ONCONC2H10', pbc=False),\n",
       " Atoms(symbols='C6ClNCO2H4', pbc=False),\n",
       " Atoms(symbols='C12F2CO3H8', pbc=False),\n",
       " Atoms(symbols='C6O6H14', pbc=False),\n",
       " Atoms(symbols='C13OC3O2H14', pbc=False),\n",
       " Atoms(symbols='C6NC3OC4FCO2H12', pbc=False),\n",
       " Atoms(symbols='C4O2C6OH8', pbc=False),\n",
       " Atoms(symbols='C8NC8OCO2H15', pbc=False),\n",
       " Atoms(symbols='C7NC7O2CH15', pbc=False),\n",
       " Atoms(symbols='C12OC2O2H14', pbc=False),\n",
       " Atoms(symbols='C3NC3OC8NOH20', pbc=False),\n",
       " Atoms(symbols='C4ONCNCOC6H14', pbc=False),\n",
       " Atoms(symbols='C3NC3SO2C7O2H19', pbc=False),\n",
       " Atoms(symbols='C2NC2NCONH5', pbc=False),\n",
       " Atoms(symbols='C7ONSO2H5', pbc=False),\n",
       " Atoms(symbols='C7O3H6', pbc=False),\n",
       " Atoms(symbols='C2NC4ONCNC10OC6FH26', pbc=False),\n",
       " Atoms(symbols='C4NONSO2C6NH11', pbc=False),\n",
       " Atoms(symbols='C6NSO2NH8', pbc=False),\n",
       " Atoms(symbols='CNC3ONCOCNCNH8', pbc=False),\n",
       " Atoms(symbols='C7ClNC7O2H12', pbc=False),\n",
       " Atoms(symbols='COC6OCOC4NCNCN2H18', pbc=False),\n",
       " Atoms(symbols='C8NOH11', pbc=False),\n",
       " Atoms(symbols='C6ClNCONH5', pbc=False),\n",
       " Atoms(symbols='C33H30N4O2', pbc=False),\n",
       " Atoms(symbols='COC2NCOC3SCOCONCO2NCOC5SH17', pbc=False),\n",
       " Atoms(symbols='C4OC7OCO2C5OC4H26', pbc=False),\n",
       " Atoms(symbols='C6O2C4OCO3CO5H22', pbc=False),\n",
       " Atoms(symbols='C7O2C5OCO4H18', pbc=False),\n",
       " Atoms(symbols='CNCOCNC7ClC6H13', pbc=False),\n",
       " Atoms(symbols='C2OCONC10NC7ClC2H23', pbc=False),\n",
       " Atoms(symbols='C2OC6SO2NCONC6H20', pbc=False),\n",
       " Atoms(symbols='C19NC2NCH18', pbc=False),\n",
       " Atoms(symbols='C14OC7Cl2H26', pbc=False),\n",
       " Atoms(symbols='C2NC4OCOC6NH20', pbc=False),\n",
       " Atoms(symbols='C37H48N6O5S2', pbc=False),\n",
       " Atoms(symbols='C9F3CF3OC2NC2OC2N2CONC6FH21', pbc=False),\n",
       " Atoms(symbols='C3ONCONC6NO2CF3CH10', pbc=False),\n",
       " Atoms(symbols='C31H48O2S2', pbc=False),\n",
       " Atoms(symbols='C8O2C2O2NC6Cl2H13', pbc=False),\n",
       " Atoms(symbols='C6Cl2COC2NC2NC7Cl2H14', pbc=False),\n",
       " Atoms(symbols='C2OCSCONC3NCONH11', pbc=False),\n",
       " Atoms(symbols='C6NSO2NCNC2SH9', pbc=False),\n",
       " Atoms(symbols='CNC7OCOC2OC6H23', pbc=False),\n",
       " Atoms(symbols='C6O6H14', pbc=False),\n",
       " Atoms(symbols='C4OCNC9ONC2NC4H29', pbc=False),\n",
       " Atoms(symbols='C7OC3O2H14', pbc=False),\n",
       " Atoms(symbols='C4ON2C7H12', pbc=False),\n",
       " Atoms(symbols='C5OC14OCH30', pbc=False),\n",
       " Atoms(symbols='C6ON2COC12H20', pbc=False),\n",
       " Atoms(symbols='C2OC14OC5H30', pbc=False),\n",
       " Atoms(symbols='C7ONCONCOC2H18', pbc=False),\n",
       " Atoms(symbols='C5O5H10', pbc=False),\n",
       " Atoms(symbols='C4ONCONCOC5H18', pbc=False),\n",
       " Atoms(symbols='C7NC2SOC10H17', pbc=False),\n",
       " Atoms(symbols='C9OC3OCOC2H18', pbc=False),\n",
       " Atoms(symbols='C28H44O', pbc=False),\n",
       " Atoms(symbols='C7NCOC2N2COC3NC2H18', pbc=False),\n",
       " Atoms(symbols='C2OCOC2NC9NO2CO2C3H20', pbc=False),\n",
       " Atoms(symbols='C12OC6OH20', pbc=False),\n",
       " Atoms(symbols='C3ONC2NSO2C6NH13', pbc=False),\n",
       " Atoms(symbols='CNC3ONCOCNCNC3O2H14', pbc=False),\n",
       " Atoms(symbols='C4ONCONCOC6H12', pbc=False),\n",
       " Atoms(symbols='C12OC7OCH26', pbc=False),\n",
       " Atoms(symbols='C2OC14OC4ClCOCOCH29', pbc=False),\n",
       " Atoms(symbols='C26H31ClN2O8S', pbc=False),\n",
       " Atoms(symbols='C6O2C2OC3O3CO5H22', pbc=False),\n",
       " Atoms(symbols='COC9NC5NCOC2OC4OCH26', pbc=False),\n",
       " Atoms(symbols='C24H40O4', pbc=False)]"
      ]
     },
     "execution_count": 22,
     "metadata": {},
     "output_type": "execute_result"
    }
   ],
   "source": [
    "conf_s"
   ]
  },
  {
   "cell_type": "code",
   "execution_count": 23,
   "id": "6adcc112",
   "metadata": {},
   "outputs": [
    {
     "name": "stdout",
     "output_type": "stream",
     "text": [
      "Getting soap for Atoms(symbols='COC6NCOC4ClC7O2C2O2H18', pbc=False)\n",
      "soap cutoff=5 l_max=3 n_max=6 atom_sigma=0.81 n_Z=7 Z={8, 7, 6, 1, 16, 17, 9} n_species=7 species_Z={8, 7, 6, 1, 16, 17, 9} mu=0 mu_hat=0 nu=2 nu_hat=0\n",
      "(47, 3613)\n",
      "(47, 47)\n",
      "Getting soap for Atoms(symbols='C2ONC6OH9', pbc=False)\n",
      "soap cutoff=5 l_max=3 n_max=6 atom_sigma=0.81 n_Z=7 Z={8, 7, 6, 1, 16, 17, 9} n_species=7 species_Z={8, 7, 6, 1, 16, 17, 9} mu=0 mu_hat=0 nu=2 nu_hat=0\n",
      "(20, 3613)\n",
      "(20, 20)\n",
      "Getting soap for Atoms(symbols='C3SO2C6FCONC7NCF3OH14', pbc=False)\n",
      "soap cutoff=5 l_max=3 n_max=6 atom_sigma=0.81 n_Z=7 Z={8, 7, 6, 1, 16, 17, 9} n_species=7 species_Z={8, 7, 6, 1, 16, 17, 9} mu=0 mu_hat=0 nu=2 nu_hat=0\n",
      "(43, 3613)\n",
      "(43, 43)\n",
      "Getting soap for Atoms(symbols='C6NC6NC3OC7NOH25', pbc=False)\n",
      "soap cutoff=5 l_max=3 n_max=6 atom_sigma=0.81 n_Z=7 Z={8, 7, 6, 1, 16, 17, 9} n_species=7 species_Z={8, 7, 6, 1, 16, 17, 9} mu=0 mu_hat=0 nu=2 nu_hat=0\n",
      "(52, 3613)\n",
      "(52, 52)\n",
      "Getting soap for Atoms(symbols='C25H34O6', pbc=False)\n",
      "soap cutoff=5 l_max=3 n_max=6 atom_sigma=0.81 n_Z=7 Z={8, 7, 6, 1, 16, 17, 9} n_species=7 species_Z={8, 7, 6, 1, 16, 17, 9} mu=0 mu_hat=0 nu=2 nu_hat=0\n",
      "(65, 3613)\n",
      "(65, 65)\n",
      "Getting soap for Atoms(symbols='C3SCONC5O2H15', pbc=False)\n",
      "soap cutoff=5 l_max=3 n_max=6 atom_sigma=0.81 n_Z=7 Z={8, 7, 6, 1, 16, 17, 9} n_species=7 species_Z={8, 7, 6, 1, 16, 17, 9} mu=0 mu_hat=0 nu=2 nu_hat=0\n",
      "(29, 3613)\n",
      "(29, 29)\n",
      "Getting soap for Atoms(symbols='COC6OC2NC3OC12NOH26', pbc=False)\n",
      "soap cutoff=5 l_max=3 n_max=6 atom_sigma=0.81 n_Z=7 Z={8, 7, 6, 1, 16, 17, 9} n_species=7 species_Z={8, 7, 6, 1, 16, 17, 9} mu=0 mu_hat=0 nu=2 nu_hat=0\n",
      "(56, 3613)\n",
      "(56, 56)\n",
      "Getting soap for Atoms(symbols='C10N2C6SO2NCF3H14', pbc=False)\n",
      "soap cutoff=5 l_max=3 n_max=6 atom_sigma=0.81 n_Z=7 Z={8, 7, 6, 1, 16, 17, 9} n_species=7 species_Z={8, 7, 6, 1, 16, 17, 9} mu=0 mu_hat=0 nu=2 nu_hat=0\n",
      "(40, 3613)\n",
      "(40, 40)\n",
      "Getting soap for Atoms(symbols='C9ONCOCCl2ONO2H12', pbc=False)\n",
      "soap cutoff=5 l_max=3 n_max=6 atom_sigma=0.81 n_Z=7 Z={8, 7, 6, 1, 16, 17, 9} n_species=7 species_Z={8, 7, 6, 1, 16, 17, 9} mu=0 mu_hat=0 nu=2 nu_hat=0\n",
      "(32, 3613)\n",
      "(32, 32)\n",
      "Getting soap for Atoms(symbols='C2NC2NC22H28', pbc=False)\n",
      "soap cutoff=5 l_max=3 n_max=6 atom_sigma=0.81 n_Z=7 Z={8, 7, 6, 1, 16, 17, 9} n_species=7 species_Z={8, 7, 6, 1, 16, 17, 9} mu=0 mu_hat=0 nu=2 nu_hat=0\n",
      "(56, 3613)\n",
      "(56, 56)\n",
      "Getting soap for Atoms(symbols='C14ClOC6NCH26', pbc=False)\n",
      "soap cutoff=5 l_max=3 n_max=6 atom_sigma=0.81 n_Z=7 Z={8, 7, 6, 1, 16, 17, 9} n_species=7 species_Z={8, 7, 6, 1, 16, 17, 9} mu=0 mu_hat=0 nu=2 nu_hat=0\n",
      "(50, 3613)\n",
      "(50, 50)\n",
      "Getting soap for Atoms(symbols='C19ClNC2NCH17', pbc=False)\n",
      "soap cutoff=5 l_max=3 n_max=6 atom_sigma=0.81 n_Z=7 Z={8, 7, 6, 1, 16, 17, 9} n_species=7 species_Z={8, 7, 6, 1, 16, 17, 9} mu=0 mu_hat=0 nu=2 nu_hat=0\n",
      "(42, 3613)\n",
      "(42, 42)\n",
      "Getting soap for Atoms(symbols='C12OC10NOH27', pbc=False)\n",
      "soap cutoff=5 l_max=3 n_max=6 atom_sigma=0.81 n_Z=7 Z={8, 7, 6, 1, 16, 17, 9} n_species=7 species_Z={8, 7, 6, 1, 16, 17, 9} mu=0 mu_hat=0 nu=2 nu_hat=0\n",
      "(52, 3613)\n",
      "(52, 52)\n",
      "Getting soap for Atoms(symbols='C2OCSCONC3NCONFH10', pbc=False)\n",
      "soap cutoff=5 l_max=3 n_max=6 atom_sigma=0.81 n_Z=7 Z={8, 7, 6, 1, 16, 17, 9} n_species=7 species_Z={8, 7, 6, 1, 16, 17, 9} mu=0 mu_hat=0 nu=2 nu_hat=0\n",
      "(26, 3613)\n",
      "(26, 26)\n",
      "Getting soap for Atoms(symbols='C10OC8OH24', pbc=False)\n",
      "soap cutoff=5 l_max=3 n_max=6 atom_sigma=0.81 n_Z=7 Z={8, 7, 6, 1, 16, 17, 9} n_species=7 species_Z={8, 7, 6, 1, 16, 17, 9} mu=0 mu_hat=0 nu=2 nu_hat=0\n",
      "(44, 3613)\n",
      "(44, 44)\n",
      "Getting soap for Atoms(symbols='C9ONC6FC9FO2H21', pbc=False)\n",
      "soap cutoff=5 l_max=3 n_max=6 atom_sigma=0.81 n_Z=7 Z={8, 7, 6, 1, 16, 17, 9} n_species=7 species_Z={8, 7, 6, 1, 16, 17, 9} mu=0 mu_hat=0 nu=2 nu_hat=0\n",
      "(51, 3613)\n",
      "(51, 51)\n",
      "Getting soap for Atoms(symbols='C2OCOC2NC9Cl2CO2C3H19', pbc=False)\n",
      "soap cutoff=5 l_max=3 n_max=6 atom_sigma=0.81 n_Z=7 Z={8, 7, 6, 1, 16, 17, 9} n_species=7 species_Z={8, 7, 6, 1, 16, 17, 9} mu=0 mu_hat=0 nu=2 nu_hat=0\n",
      "(44, 3613)\n",
      "(44, 44)\n",
      "Getting soap for Atoms(symbols='C14FCO2H13', pbc=False)\n",
      "soap cutoff=5 l_max=3 n_max=6 atom_sigma=0.81 n_Z=7 Z={8, 7, 6, 1, 16, 17, 9} n_species=7 species_Z={8, 7, 6, 1, 16, 17, 9} mu=0 mu_hat=0 nu=2 nu_hat=0\n",
      "(31, 3613)\n",
      "(31, 31)\n",
      "Getting soap for Atoms(symbols='C7O2C3O2NC7NC2ClH17', pbc=False)\n",
      "soap cutoff=5 l_max=3 n_max=6 atom_sigma=0.81 n_Z=7 Z={8, 7, 6, 1, 16, 17, 9} n_species=7 species_Z={8, 7, 6, 1, 16, 17, 9} mu=0 mu_hat=0 nu=2 nu_hat=0\n",
      "(43, 3613)\n",
      "(43, 43)\n",
      "Getting soap for Atoms(symbols='C23H28ClN3O5S', pbc=False)\n",
      "soap cutoff=5 l_max=3 n_max=6 atom_sigma=0.81 n_Z=7 Z={8, 7, 6, 1, 16, 17, 9} n_species=7 species_Z={8, 7, 6, 1, 16, 17, 9} mu=0 mu_hat=0 nu=2 nu_hat=0\n",
      "(61, 3613)\n",
      "(61, 61)\n",
      "Getting soap for Atoms(symbols='CNC6SO2NSO2NClH8', pbc=False)\n",
      "soap cutoff=5 l_max=3 n_max=6 atom_sigma=0.81 n_Z=7 Z={8, 7, 6, 1, 16, 17, 9} n_species=7 species_Z={8, 7, 6, 1, 16, 17, 9} mu=0 mu_hat=0 nu=2 nu_hat=0\n",
      "(25, 3613)\n",
      "(25, 25)\n",
      "Getting soap for Atoms(symbols='C5OC14OCO2COH30', pbc=False)\n",
      "soap cutoff=5 l_max=3 n_max=6 atom_sigma=0.81 n_Z=7 Z={8, 7, 6, 1, 16, 17, 9} n_species=7 species_Z={8, 7, 6, 1, 16, 17, 9} mu=0 mu_hat=0 nu=2 nu_hat=0\n",
      "(56, 3613)\n",
      "(56, 56)\n",
      "Getting soap for Atoms(symbols='CNC7F3SO2NSO2NH8', pbc=False)\n",
      "soap cutoff=5 l_max=3 n_max=6 atom_sigma=0.81 n_Z=7 Z={8, 7, 6, 1, 16, 17, 9} n_species=7 species_Z={8, 7, 6, 1, 16, 17, 9} mu=0 mu_hat=0 nu=2 nu_hat=0\n",
      "(28, 3613)\n",
      "(28, 28)\n",
      "Getting soap for Atoms(symbols='C13O2H18', pbc=False)\n",
      "soap cutoff=5 l_max=3 n_max=6 atom_sigma=0.81 n_Z=7 Z={8, 7, 6, 1, 16, 17, 9} n_species=7 species_Z={8, 7, 6, 1, 16, 17, 9} mu=0 mu_hat=0 nu=2 nu_hat=0\n",
      "(33, 3613)\n",
      "(33, 33)\n",
      "Getting soap for Atoms(symbols='C5NCOC6ClC4OC3O2H16', pbc=False)\n",
      "soap cutoff=5 l_max=3 n_max=6 atom_sigma=0.81 n_Z=7 Z={8, 7, 6, 1, 16, 17, 9} n_species=7 species_Z={8, 7, 6, 1, 16, 17, 9} mu=0 mu_hat=0 nu=2 nu_hat=0\n",
      "(41, 3613)\n",
      "(41, 41)\n",
      "Getting soap for Atoms(symbols='C6NC2O2C8NONC2O2CH21', pbc=False)\n",
      "soap cutoff=5 l_max=3 n_max=6 atom_sigma=0.81 n_Z=7 Z={8, 7, 6, 1, 16, 17, 9} n_species=7 species_Z={8, 7, 6, 1, 16, 17, 9} mu=0 mu_hat=0 nu=2 nu_hat=0\n",
      "(48, 3613)\n",
      "(48, 48)\n",
      "Getting soap for Atoms(symbols='C9OC7O2H14', pbc=False)\n",
      "soap cutoff=5 l_max=3 n_max=6 atom_sigma=0.81 n_Z=7 Z={8, 7, 6, 1, 16, 17, 9} n_species=7 species_Z={8, 7, 6, 1, 16, 17, 9} mu=0 mu_hat=0 nu=2 nu_hat=0\n",
      "(33, 3613)\n",
      "(33, 33)\n",
      "Getting soap for Atoms(symbols='C9NC4NCNC5ONC2OH26', pbc=False)\n",
      "soap cutoff=5 l_max=3 n_max=6 atom_sigma=0.81 n_Z=7 Z={8, 7, 6, 1, 16, 17, 9} n_species=7 species_Z={8, 7, 6, 1, 16, 17, 9} mu=0 mu_hat=0 nu=2 nu_hat=0\n",
      "(53, 3613)\n",
      "(53, 53)\n",
      "Getting soap for Atoms(symbols='C2NC7ONC7SO2NClH16', pbc=False)\n",
      "soap cutoff=5 l_max=3 n_max=6 atom_sigma=0.81 n_Z=7 Z={8, 7, 6, 1, 16, 17, 9} n_species=7 species_Z={8, 7, 6, 1, 16, 17, 9} mu=0 mu_hat=0 nu=2 nu_hat=0\n",
      "(40, 3613)\n",
      "(40, 40)\n",
      "Getting soap for Atoms(symbols='C10OC5OC3H26', pbc=False)\n",
      "soap cutoff=5 l_max=3 n_max=6 atom_sigma=0.81 n_Z=7 Z={8, 7, 6, 1, 16, 17, 9} n_species=7 species_Z={8, 7, 6, 1, 16, 17, 9} mu=0 mu_hat=0 nu=2 nu_hat=0\n",
      "(46, 3613)\n",
      "(46, 46)\n",
      "Getting soap for Atoms(symbols='C6NC2O2C7NO2CO2CH18', pbc=False)\n",
      "soap cutoff=5 l_max=3 n_max=6 atom_sigma=0.81 n_Z=7 Z={8, 7, 6, 1, 16, 17, 9} n_species=7 species_Z={8, 7, 6, 1, 16, 17, 9} mu=0 mu_hat=0 nu=2 nu_hat=0\n",
      "(43, 3613)\n",
      "(43, 43)\n",
      "Getting soap for Atoms(symbols='CSO2NC6NO3C6H12', pbc=False)\n",
      "soap cutoff=5 l_max=3 n_max=6 atom_sigma=0.81 n_Z=7 Z={8, 7, 6, 1, 16, 17, 9} n_species=7 species_Z={8, 7, 6, 1, 16, 17, 9} mu=0 mu_hat=0 nu=2 nu_hat=0\n",
      "(33, 3613)\n",
      "(33, 33)\n",
      "Getting soap for Atoms(symbols='CNC2NO2NC2SC3SCNCNC2H21', pbc=False)\n",
      "soap cutoff=5 l_max=3 n_max=6 atom_sigma=0.81 n_Z=7 Z={8, 7, 6, 1, 16, 17, 9} n_species=7 species_Z={8, 7, 6, 1, 16, 17, 9} mu=0 mu_hat=0 nu=2 nu_hat=0\n",
      "(42, 3613)\n",
      "(42, 42)\n",
      "Getting soap for Atoms(symbols='C29H53NO5', pbc=False)\n",
      "soap cutoff=5 l_max=3 n_max=6 atom_sigma=0.81 n_Z=7 Z={8, 7, 6, 1, 16, 17, 9} n_species=7 species_Z={8, 7, 6, 1, 16, 17, 9} mu=0 mu_hat=0 nu=2 nu_hat=0\n",
      "(88, 3613)\n",
      "(88, 88)\n",
      "Getting soap for Atoms(symbols='C4NCNC6OCONC3H21', pbc=False)\n",
      "soap cutoff=5 l_max=3 n_max=6 atom_sigma=0.81 n_Z=7 Z={8, 7, 6, 1, 16, 17, 9} n_species=7 species_Z={8, 7, 6, 1, 16, 17, 9} mu=0 mu_hat=0 nu=2 nu_hat=0\n",
      "(41, 3613)\n",
      "(41, 41)\n",
      "Getting soap for Atoms(symbols='C28H29F2N3O', pbc=False)\n",
      "soap cutoff=5 l_max=3 n_max=6 atom_sigma=0.81 n_Z=7 Z={8, 7, 6, 1, 16, 17, 9} n_species=7 species_Z={8, 7, 6, 1, 16, 17, 9} mu=0 mu_hat=0 nu=2 nu_hat=0\n"
     ]
    },
    {
     "name": "stdout",
     "output_type": "stream",
     "text": [
      "(63, 3613)\n",
      "(63, 63)\n",
      "Getting soap for Atoms(symbols='C25H38O5', pbc=False)\n",
      "soap cutoff=5 l_max=3 n_max=6 atom_sigma=0.81 n_Z=7 Z={8, 7, 6, 1, 16, 17, 9} n_species=7 species_Z={8, 7, 6, 1, 16, 17, 9} mu=0 mu_hat=0 nu=2 nu_hat=0\n",
      "(68, 3613)\n",
      "(68, 68)\n",
      "Getting soap for Atoms(symbols='C24H32O4S', pbc=False)\n",
      "soap cutoff=5 l_max=3 n_max=6 atom_sigma=0.81 n_Z=7 Z={8, 7, 6, 1, 16, 17, 9} n_species=7 species_Z={8, 7, 6, 1, 16, 17, 9} mu=0 mu_hat=0 nu=2 nu_hat=0\n",
      "(61, 3613)\n",
      "(61, 61)\n",
      "Getting soap for Atoms(symbols='C13SOC5FC2O2H17', pbc=False)\n",
      "soap cutoff=5 l_max=3 n_max=6 atom_sigma=0.81 n_Z=7 Z={8, 7, 6, 1, 16, 17, 9} n_species=7 species_Z={8, 7, 6, 1, 16, 17, 9} mu=0 mu_hat=0 nu=2 nu_hat=0\n",
      "(42, 3613)\n",
      "(42, 42)\n",
      "Getting soap for Atoms(symbols='C16OC2NC8H29', pbc=False)\n",
      "soap cutoff=5 l_max=3 n_max=6 atom_sigma=0.81 n_Z=7 Z={8, 7, 6, 1, 16, 17, 9} n_species=7 species_Z={8, 7, 6, 1, 16, 17, 9} mu=0 mu_hat=0 nu=2 nu_hat=0\n",
      "(57, 3613)\n",
      "(57, 57)\n",
      "Getting soap for Atoms(symbols='C3NCNC2NCNCNOCPO3H14', pbc=False)\n",
      "soap cutoff=5 l_max=3 n_max=6 atom_sigma=0.81 n_Z=7 Z={8, 7, 6, 1, 16, 17, 9} n_species=7 species_Z={8, 7, 6, 1, 16, 17, 9} mu=0 mu_hat=0 nu=2 nu_hat=0\n",
      "(32, 3613)\n",
      "(33, 33)\n"
     ]
    },
    {
     "ename": "ValueError",
     "evalue": "matmul: Input operand 1 has a mismatch in its core dimension 0, with gufunc signature (n?,k),(k,m?)->(n?,m?) (size 32 is different from 33)",
     "output_type": "error",
     "traceback": [
      "\u001b[0;31m---------------------------------------------------------------------------\u001b[0m",
      "\u001b[0;31mValueError\u001b[0m                                Traceback (most recent call last)",
      "\u001b[0;32m<ipython-input-23-91bf11c21d75>\u001b[0m in \u001b[0;36m<module>\u001b[0;34m\u001b[0m\n\u001b[0;32m----> 1\u001b[0;31m \u001b[0mtest_ind\u001b[0m\u001b[0;34m.\u001b[0m\u001b[0mcomp_soaps\u001b[0m\u001b[0;34m(\u001b[0m\u001b[0mconf_s\u001b[0m\u001b[0;34m,\u001b[0m \u001b[0mdata\u001b[0m\u001b[0;34m)\u001b[0m\u001b[0;34m\u001b[0m\u001b[0;34m\u001b[0m\u001b[0m\n\u001b[0m",
      "\u001b[0;32m~/Projets/SOAP_GAS/refactoring.py\u001b[0m in \u001b[0;36mcomp_soaps\u001b[0;34m(self, conf_s, data)\u001b[0m\n\u001b[1;32m    296\u001b[0m                     \u001b[0mprint\u001b[0m\u001b[0;34m(\u001b[0m\u001b[0ma_soap\u001b[0m\u001b[0;34m.\u001b[0m\u001b[0mshape\u001b[0m\u001b[0;34m)\u001b[0m\u001b[0;34m\u001b[0m\u001b[0;34m\u001b[0m\u001b[0m\n\u001b[1;32m    297\u001b[0m                     \u001b[0mprint\u001b[0m\u001b[0;34m(\u001b[0m\u001b[0mmpMatN\u001b[0m\u001b[0;34m(\u001b[0m\u001b[0mmol\u001b[0m\u001b[0;34m,\u001b[0m\u001b[0mself\u001b[0m\u001b[0;34m.\u001b[0m\u001b[0mmessage_steps\u001b[0m\u001b[0;34m)\u001b[0m\u001b[0;34m.\u001b[0m\u001b[0mshape\u001b[0m\u001b[0;34m)\u001b[0m\u001b[0;34m\u001b[0m\u001b[0;34m\u001b[0m\u001b[0m\n\u001b[0;32m--> 298\u001b[0;31m                     \u001b[0mmp_soap\u001b[0m \u001b[0;34m=\u001b[0m \u001b[0mnp\u001b[0m\u001b[0;34m.\u001b[0m\u001b[0mmean\u001b[0m\u001b[0;34m(\u001b[0m\u001b[0mmpMatN\u001b[0m\u001b[0;34m(\u001b[0m\u001b[0mmol\u001b[0m\u001b[0;34m,\u001b[0m\u001b[0mself\u001b[0m\u001b[0;34m.\u001b[0m\u001b[0mmessage_steps\u001b[0m\u001b[0;34m)\u001b[0m\u001b[0;34m@\u001b[0m\u001b[0ma_soap\u001b[0m\u001b[0;34m,\u001b[0m \u001b[0maxis\u001b[0m\u001b[0;34m=\u001b[0m\u001b[0;36m0\u001b[0m\u001b[0;34m)\u001b[0m\u001b[0;34m\u001b[0m\u001b[0;34m\u001b[0m\u001b[0m\n\u001b[0m\u001b[1;32m    299\u001b[0m                     \u001b[0msoap\u001b[0m \u001b[0;34m+=\u001b[0m \u001b[0mlist\u001b[0m\u001b[0;34m(\u001b[0m\u001b[0mmp_soap\u001b[0m\u001b[0;34m)\u001b[0m\u001b[0;34m\u001b[0m\u001b[0;34m\u001b[0m\u001b[0m\n\u001b[1;32m    300\u001b[0m                 \u001b[0msoap_array\u001b[0m\u001b[0;34m.\u001b[0m\u001b[0mappend\u001b[0m\u001b[0;34m(\u001b[0m\u001b[0msoap\u001b[0m\u001b[0;34m)\u001b[0m\u001b[0;34m\u001b[0m\u001b[0;34m\u001b[0m\u001b[0m\n",
      "\u001b[0;31mValueError\u001b[0m: matmul: Input operand 1 has a mismatch in its core dimension 0, with gufunc signature (n?,k),(k,m?)->(n?,m?) (size 32 is different from 33)"
     ]
    }
   ],
   "source": [
    "test_ind.comp_soaps(conf_s, data)"
   ]
  },
  {
   "cell_type": "code",
   "execution_count": 24,
   "id": "a612d669",
   "metadata": {},
   "outputs": [
    {
     "ename": "AttributeError",
     "evalue": "'NoneType' object has no attribute 'shape'",
     "output_type": "error",
     "traceback": [
      "\u001b[0;31m---------------------------------------------------------------------------\u001b[0m",
      "\u001b[0;31mAttributeError\u001b[0m                            Traceback (most recent call last)",
      "\u001b[0;32m<ipython-input-24-619547b15e38>\u001b[0m in \u001b[0;36m<module>\u001b[0;34m\u001b[0m\n\u001b[0;32m----> 1\u001b[0;31m \u001b[0mtest_ind\u001b[0m\u001b[0;34m.\u001b[0m\u001b[0msoaps\u001b[0m\u001b[0;34m.\u001b[0m\u001b[0mshape\u001b[0m\u001b[0;34m\u001b[0m\u001b[0;34m\u001b[0m\u001b[0m\n\u001b[0m",
      "\u001b[0;31mAttributeError\u001b[0m: 'NoneType' object has no attribute 'shape'"
     ]
    }
   ],
   "source": [
    "test_ind.soaps.shape"
   ]
  },
  {
   "cell_type": "code",
   "execution_count": null,
   "id": "614a45c3",
   "metadata": {},
   "outputs": [],
   "source": [
    "from sklearn.preprocessing import MinMaxScaler\n",
    "from tensorflow.keras import layers, optimizers, Model, backend\n",
    "from tensorflow.keras.layers import Input, Dense\n",
    "from tensorflow.keras.callbacks import EarlyStopping\n",
    "from scipy.stats import pearsonr\n",
    "from sklearn.metrics import mean_squared_error\n",
    "os.environ['TF_CPP_MIN_LOG_LEVEL'] = '2'"
   ]
  },
  {
   "cell_type": "code",
   "execution_count": null,
   "id": "5737d0d8",
   "metadata": {},
   "outputs": [],
   "source": [
    "def cv_split(individual, splits, repeats, random_state):\n",
    "    \"\"\"\n",
    "    Returns split indices for train and test sets\n",
    "    \"\"\"\n",
    "    cv = RepeatedKFold(n_splits = splits, n_repeats = repeats, random_state = random_state)\n",
    "    for train_index, test_index in cv.split(soaps):\n",
    "        print(train_index, test_index) "
   ]
  },
  {
   "cell_type": "code",
   "execution_count": null,
   "id": "dc22974a",
   "metadata": {},
   "outputs": [],
   "source": [
    "def scaleData(train, test):\n",
    "    scaler = MinMaxScaler()\n",
    "    train_scaled = scaler.fit_transform(train)\n",
    "    test_scaled = scaler.transform(test)\n",
    "\n",
    "    return train_scaled, test_scaled, scaler"
   ]
  },
  {
   "cell_type": "code",
   "execution_count": null,
   "id": "ea2f6d31",
   "metadata": {},
   "outputs": [],
   "source": [
    "def buildModel(X):\n",
    "    backend.clear_session()\n",
    "    input_layer = Input(X.shape[1])\n",
    "    hidden_layer = input_layer\n",
    "    for layer in [30,30,30]:\n",
    "        hidden_layer = Dense(layer, activation='relu')(hidden_layer)\n",
    "\n",
    "    output_layer = Dense(units=1, activation='linear')(hidden_layer)\n",
    "    model = Model(input_layer, output_layer)\n",
    "    model.compile(loss='mean_squared_error', optimizer=optimizers.Adam(learning_rate=0.01), metrics=['mean_squared_error'])\n",
    "\n",
    "    return model"
   ]
  },
  {
   "cell_type": "code",
   "execution_count": null,
   "id": "241b3765",
   "metadata": {},
   "outputs": [],
   "source": [
    "\n",
    "def get_scores(Individual, train_index, test_index, scaling = None, **kwargs):\n",
    "    estimator = buildModel(Individual.soaps)\n",
    "    X_train, X_test, X_scaler = scaleData(Individual.soaps[train_index], Individual.soaps[test_index])\n",
    "    y_train, y_test, y_scaler = scaleData(Individual.targets[train_index].reshape(-1,1), Individual.targets[test_index].reshape(-1,1))\n",
    "    scores = scorerNN(estimator, X_train, X_test, y_train, y_test, y_scaler)\n",
    "    print(scores[0])\n",
    "    return scores"
   ]
  },
  {
   "cell_type": "code",
   "execution_count": null,
   "id": "0cb2ff4e",
   "metadata": {},
   "outputs": [],
   "source": [
    "def scorerNN(estimator, X_train, X_test, y_train, y_test, y_scaler):\n",
    "    \"\"\" Scoring function for use with NN regressor. Added by Matt. \"\"\"\n",
    "\n",
    "    callback = EarlyStopping(monitor='val_loss', patience=50)\n",
    "    estimator.fit(X_train, y_train, callbacks=[callback], validation_split=0.1, epochs=200, verbose=False)\n",
    "    y_test_pred, y_train_pred = estimator.predict(X_test, verbose=False), estimator.predict(X_train, verbose=False)\n",
    "    y_test_pred, y_train_pred = y_scaler.inverse_transform(y_test_pred), y_scaler.inverse_transform(y_train_pred)\n",
    "    y_test = np.ravel(y_test)\n",
    "    y_train = np.ravel(y_train)\n",
    "    testCorr = pearsonr(y_test, y_test_pred)[0]\n",
    "    trainCorr = pearsonr(y_train, y_train_pred)[0]\n",
    "    testMSE = mean_squared_error(y_test, y_test_pred)\n",
    "    trainMSE =  mean_squared_error(y_train, y_train_pred)\n",
    "    return (2 * (trainMSE * (1-trainCorr)) + (testMSE * (1-testCorr))), X_train, X_test, y_train, y_test, y_test_pred, y_train_pred"
   ]
  },
  {
   "cell_type": "code",
   "execution_count": null,
   "id": "3da569df",
   "metadata": {},
   "outputs": [],
   "source": [
    "cv = RepeatedKFold(n_splits = 5, n_repeats = 2, random_state = 6)\n",
    "for train_index, test_index in cv.split(test_ind.soaps):\n",
    "    get_scores(test_ind, train_index, test_index)"
   ]
  },
  {
   "cell_type": "code",
   "execution_count": null,
   "id": "6c8c242a",
   "metadata": {},
   "outputs": [],
   "source": [
    "type(t.dtype)"
   ]
  },
  {
   "cell_type": "code",
   "execution_count": null,
   "id": "71f0189a",
   "metadata": {},
   "outputs": [],
   "source": [
    "def build_model(individual):\n",
    "    if individual.targets.dtype == float:\n",
    "        target_type = 'regression'\n",
    "    elif individual.targets.dtype == (int or str):\n",
    "        target_type = 'classification'\n",
    "    estimator = 3\n",
    "    return estimator, target_type"
   ]
  },
  {
   "cell_type": "code",
   "execution_count": null,
   "id": "a3844037",
   "metadata": {},
   "outputs": [],
   "source": [
    "build_model(test_ind)"
   ]
  },
  {
   "cell_type": "code",
   "execution_count": null,
   "id": "13d39ff9",
   "metadata": {},
   "outputs": [],
   "source": []
  },
  {
   "cell_type": "code",
   "execution_count": null,
   "id": "374e6b7f",
   "metadata": {},
   "outputs": [],
   "source": []
  }
 ],
 "metadata": {
  "kernelspec": {
   "display_name": "Python 3",
   "language": "python",
   "name": "python3"
  },
  "language_info": {
   "codemirror_mode": {
    "name": "ipython",
    "version": 3
   },
   "file_extension": ".py",
   "mimetype": "text/x-python",
   "name": "python",
   "nbconvert_exporter": "python",
   "pygments_lexer": "ipython3",
   "version": "3.6.13"
  },
  "toc": {
   "base_numbering": 1,
   "nav_menu": {},
   "number_sections": true,
   "sideBar": true,
   "skip_h1_title": false,
   "title_cell": "Table of Contents",
   "title_sidebar": "Contents",
   "toc_cell": false,
   "toc_position": {
    "height": "calc(100% - 180px)",
    "left": "10px",
    "top": "150px",
    "width": "325.797px"
   },
   "toc_section_display": true,
   "toc_window_display": true
  }
 },
 "nbformat": 4,
 "nbformat_minor": 5
}
