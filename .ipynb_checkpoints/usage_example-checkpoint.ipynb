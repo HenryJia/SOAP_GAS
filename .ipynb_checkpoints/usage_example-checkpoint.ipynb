{
 "cells": [
  {
   "cell_type": "markdown",
   "id": "9e26ef0c",
   "metadata": {},
   "source": [
    "## Before running"
   ]
  },
  {
   "cell_type": "markdown",
   "id": "11959e51",
   "metadata": {},
   "source": [
    "A virtual environment can be created using \n",
    "- 'pipenv install'\n",
    "- 'pipenv shell'\n",
    "\n",
    "This will allow us to all use the same packages and versions. They are listed in the Pipfile"
   ]
  },
  {
   "cell_type": "code",
   "execution_count": 1,
   "id": "290624e9",
   "metadata": {},
   "outputs": [],
   "source": [
    "from refactoring import *"
   ]
  },
  {
   "cell_type": "code",
   "execution_count": null,
   "id": "82870311",
   "metadata": {},
   "outputs": [],
   "source": []
  },
  {
   "cell_type": "markdown",
   "id": "9abf6067",
   "metadata": {},
   "source": [
    "## Inputs"
   ]
  },
  {
   "cell_type": "markdown",
   "id": "b7b3a8c5",
   "metadata": {},
   "source": [
    "Dictionaries are taken as input from a parameter file, they contain the parameters for each soap descriptor"
   ]
  },
  {
   "cell_type": "code",
   "execution_count": 2,
   "id": "a65c9154",
   "metadata": {},
   "outputs": [],
   "source": [
    "descDict1 = {'lower': 1, 'upper': 50, 'centres': '{8, 7, 6, 1, 16, 17, 9}',\n",
    "             'neighbours': '{8, 7, 6, 1, 16, 17, 9}', 'mu': 0, \n",
    "             'mu_hat': 0, 'nu': 2, 'nu_hat': 0, 'mutation_chance': 0.50, \n",
    "             'min_cutoff': 1, 'max_cutoff': 50, 'min_sigma': 0.1, \n",
    "             'max_sigma': 0.9,\n",
    "             'message_steps': 8}\n",
    "\n",
    "descDict2 = {'lower': 51, 'upper': 100, 'centres': '{8, 7, 6, 1, 16, 17, 9}',\n",
    "             'neighbours': '{8, 7, 6, 1, 16, 17, 9}', 'mu': 0, \n",
    "             'mu_hat': 0, 'nu': 2, 'nu_hat': 0, 'mutation_chance': 0.50,\n",
    "             'min_cutoff': 51, 'max_cutoff': 100, 'min_sigma': 1.1, \n",
    "             'max_sigma': 1.9,\n",
    "             'message_steps': 8}"
   ]
  },
  {
   "cell_type": "markdown",
   "id": "83e31fb5",
   "metadata": {},
   "source": [
    "Other parameters are also taken as input. These are automatically checked that the parameters are viable"
   ]
  },
  {
   "cell_type": "code",
   "execution_count": 3,
   "id": "bb86204d",
   "metadata": {},
   "outputs": [],
   "source": [
    "num_gens = 100\n",
    "best_sample, lucky_few, population_size, number_of_children = 4, 2, 12, 4\n",
    "early_stop = 2\n",
    "early_number = 3 \n",
    "min_generations = 5"
   ]
  },
  {
   "cell_type": "markdown",
   "id": "c9d7f5e1",
   "metadata": {},
   "source": [
    "## GeneParameter"
   ]
  },
  {
   "cell_type": "markdown",
   "id": "94a756a1",
   "metadata": {},
   "source": [
    "GeneParameter class is created from each descriptor dictionary. "
   ]
  },
  {
   "cell_type": "code",
   "execution_count": 4,
   "id": "c6a220fc",
   "metadata": {},
   "outputs": [],
   "source": [
    "params1 = GeneParameters(**descDict1)\n",
    "params2 = GeneParameters(**descDict2)"
   ]
  },
  {
   "cell_type": "code",
   "execution_count": 5,
   "id": "c3c2af77",
   "metadata": {},
   "outputs": [
    {
     "data": {
      "text/plain": [
       "GeneParameters(lower=1, upper=50, centres='{8, 7, 6, 1, 16, 17, 9}', neighbours='{8, 7, 6, 1, 16, 17, 9}', mu=0, mu_hat=0, nu=2, nu_hat=0, mutation_chance=0.5, min_cutoff=1, max_cutoff=50, min_sigma=0.1, max_sigma=0.9, message_steps=8)"
      ]
     },
     "execution_count": 5,
     "metadata": {},
     "output_type": "execute_result"
    }
   ],
   "source": [
    "params1"
   ]
  },
  {
   "cell_type": "markdown",
   "id": "f8736b78",
   "metadata": {},
   "source": [
    "## GeneSet"
   ]
  },
  {
   "cell_type": "markdown",
   "id": "6cb6ee73",
   "metadata": {},
   "source": [
    "We can use these classes to create a specific set of parameters that are consistant with these values. This returns a randomly generated GeneSet class"
   ]
  },
  {
   "cell_type": "code",
   "execution_count": 6,
   "id": "cb110b00",
   "metadata": {},
   "outputs": [
    {
     "data": {
      "text/plain": [
       "GeneSet(18, 23, 29, 0.51)"
      ]
     },
     "execution_count": 6,
     "metadata": {},
     "output_type": "execute_result"
    }
   ],
   "source": [
    "example_gene_set = params1.make_gene_set()\n",
    "example_gene_set"
   ]
  },
  {
   "cell_type": "markdown",
   "id": "abc0b2f4",
   "metadata": {},
   "source": [
    "We can get the parameters used to create the GeneSet class"
   ]
  },
  {
   "cell_type": "code",
   "execution_count": 7,
   "id": "75f3f54a",
   "metadata": {},
   "outputs": [
    {
     "data": {
      "text/plain": [
       "GeneParameters(lower=1, upper=50, centres='{8, 7, 6, 1, 16, 17, 9}', neighbours='{8, 7, 6, 1, 16, 17, 9}', mu=0, mu_hat=0, nu=2, nu_hat=0, mutation_chance=0.5, min_cutoff=1, max_cutoff=50, min_sigma=0.1, max_sigma=0.9, message_steps=8)"
      ]
     },
     "execution_count": 7,
     "metadata": {},
     "output_type": "execute_result"
    }
   ],
   "source": [
    "example_gene_set.gene_parameters"
   ]
  },
  {
   "cell_type": "markdown",
   "id": "71514327",
   "metadata": {},
   "source": [
    "We can get a descriptor string to be used as an input for getting SOAPs"
   ]
  },
  {
   "cell_type": "code",
   "execution_count": 8,
   "id": "c02e1b69",
   "metadata": {},
   "outputs": [
    {
     "data": {
      "text/plain": [
       "'soap cutoff=18 l_max=23 n_max=29 atom_sigma=0.51 n_Z=7 Z={8, 7, 6, 1, 16, 17, 9} n_species=7 species_Z={8, 7, 6, 1, 16, 17, 9} mu=0 mu_hat=0 nu=2 nu_hat=0'"
      ]
     },
     "execution_count": 8,
     "metadata": {},
     "output_type": "execute_result"
    }
   ],
   "source": [
    "example_gene_set.get_soap_string()"
   ]
  },
  {
   "cell_type": "markdown",
   "id": "f9735a2b",
   "metadata": {},
   "source": [
    "We can also mutate the gene using the mutation chance in the GeneParameters class"
   ]
  },
  {
   "cell_type": "code",
   "execution_count": 9,
   "id": "d07dab90",
   "metadata": {},
   "outputs": [
    {
     "name": "stdout",
     "output_type": "stream",
     "text": [
      "Before mutation [18, 23, 29, 0.51]\n",
      "After mutation [27, 23, 29, 0.74]\n"
     ]
    }
   ],
   "source": [
    "print(f\"Before mutation {example_gene_set}\")\n",
    "example_gene_set.mutate_gene()\n",
    "print(f\"After mutation {example_gene_set}\")"
   ]
  },
  {
   "cell_type": "code",
   "execution_count": null,
   "id": "86b17292",
   "metadata": {},
   "outputs": [],
   "source": []
  },
  {
   "cell_type": "code",
   "execution_count": null,
   "id": "dcab509b",
   "metadata": {},
   "outputs": [],
   "source": []
  },
  {
   "cell_type": "markdown",
   "id": "b079180e",
   "metadata": {},
   "source": [
    "## Individual"
   ]
  },
  {
   "cell_type": "markdown",
   "id": "d3581dd2",
   "metadata": {},
   "source": [
    "An Individual is made up of a list of GeneSet classes."
   ]
  },
  {
   "cell_type": "code",
   "execution_count": 10,
   "id": "df9161b7",
   "metadata": {},
   "outputs": [
    {
     "data": {
      "text/plain": [
       "Individual(['GeneSet(27, 23, 29, 0.74)', 'GeneSet(68, 95, 67, 1.57)'])"
      ]
     },
     "execution_count": 10,
     "metadata": {},
     "output_type": "execute_result"
    }
   ],
   "source": [
    "example_gene_set_two = params2.make_gene_set()\n",
    "gene_set_list = [example_gene_set, example_gene_set_two]\n",
    "example_individual = Individual(gene_set_list)\n",
    "example_individual"
   ]
  },
  {
   "cell_type": "markdown",
   "id": "c316db72",
   "metadata": {},
   "source": [
    "Getting the score for an indivudual"
   ]
  },
  {
   "cell_type": "code",
   "execution_count": 11,
   "id": "7d22c3ca",
   "metadata": {},
   "outputs": [
    {
     "data": {
      "text/plain": [
       "95"
      ]
     },
     "execution_count": 11,
     "metadata": {},
     "output_type": "execute_result"
    }
   ],
   "source": [
    "example_individual.get_score()\n",
    "example_individual.score"
   ]
  },
  {
   "cell_type": "markdown",
   "id": "2880e5d2",
   "metadata": {},
   "source": [
    "Breeding two individuals to create a child. Mutation is automatically performed during this"
   ]
  },
  {
   "cell_type": "code",
   "execution_count": 12,
   "id": "cdc42bef",
   "metadata": {},
   "outputs": [
    {
     "name": "stdout",
     "output_type": "stream",
     "text": [
      "Breeding Individual(['[27, 23, 29, 0.74]', '[68, 95, 67, 1.57]']) with Individual(['[27, 23, 29, 0.74]', '[68, 95, 67, 1.57]'])\n",
      "Created child Individual(['[19, 28, 25, 0.74]', '[72, 74, 67, 1.57]'])\n"
     ]
    }
   ],
   "source": [
    "example_individual_two = Individual(gene_set_list)\n",
    "print(f\"Breeding {example_individual} with {example_individual_two}\")\n",
    "child = breed_individuals(example_individual, example_individual_two)\n",
    "print(f\"Created child {child}\")"
   ]
  },
  {
   "cell_type": "markdown",
   "id": "da9ba698",
   "metadata": {},
   "source": [
    "## Population"
   ]
  },
  {
   "cell_type": "markdown",
   "id": "7100c58c",
   "metadata": {},
   "source": [
    "A Population is a collection of Individual classes. This can be created using a list of GeneParameter classes"
   ]
  },
  {
   "cell_type": "code",
   "execution_count": 13,
   "id": "e5313a81",
   "metadata": {},
   "outputs": [
    {
     "data": {
      "text/plain": [
       "Population(4, 2, 12, 4, [GeneParameters(lower=1, upper=50, centres='{8, 7, 6, 1, 16, 17, 9}', neighbours='{8, 7, 6, 1, 16, 17, 9}', mu=0, mu_hat=0, nu=2, nu_hat=0, mutation_chance=0.5, min_cutoff=1, max_cutoff=50, min_sigma=0.1, max_sigma=0.9, message_steps=8), GeneParameters(lower=51, upper=100, centres='{8, 7, 6, 1, 16, 17, 9}', neighbours='{8, 7, 6, 1, 16, 17, 9}', mu=0, mu_hat=0, nu=2, nu_hat=0, mutation_chance=0.5, min_cutoff=51, max_cutoff=100, min_sigma=1.1, max_sigma=1.9, message_steps=8)], True)"
      ]
     },
     "execution_count": 13,
     "metadata": {},
     "output_type": "execute_result"
    }
   ],
   "source": [
    "gene_parameters = [params1, params2]\n",
    "pop = Population(best_sample, lucky_few, population_size, \n",
    "                 number_of_children, gene_parameters, \n",
    "                 maximise_scores = True)\n",
    "pop"
   ]
  },
  {
   "cell_type": "markdown",
   "id": "67256c6f",
   "metadata": {},
   "source": [
    "To initialise the population"
   ]
  },
  {
   "cell_type": "code",
   "execution_count": 14,
   "id": "aa2d35f4",
   "metadata": {},
   "outputs": [
    {
     "name": "stdout",
     "output_type": "stream",
     "text": [
      "Initial population of size 12 generated\n"
     ]
    }
   ],
   "source": [
    "pop.initialise_population()"
   ]
  },
  {
   "cell_type": "markdown",
   "id": "192821fe",
   "metadata": {},
   "source": [
    "If you want a way of neatly seeing what individuals are in the population"
   ]
  },
  {
   "cell_type": "code",
   "execution_count": 15,
   "id": "9033e428",
   "metadata": {},
   "outputs": [
    {
     "name": "stdout",
     "output_type": "stream",
     "text": [
      "Individual(['[40, 47, 43, 0.48]', '[57, 90, 74, 1.71]']) has a score of: 97\n",
      "Individual(['[15, 38, 22, 0.47]', '[65, 94, 62, 1.16]']) has a score of: 80\n",
      "Individual(['[1, 33, 33, 0.41]', '[93, 56, 97, 1.65]']) has a score of: 94\n",
      "Individual(['[44, 19, 5, 0.67]', '[74, 55, 87, 1.82]']) has a score of: 118\n",
      "Individual(['[42, 4, 17, 0.32]', '[63, 56, 56, 1.77]']) has a score of: 105\n",
      "Individual(['[9, 27, 23, 0.39]', '[64, 70, 83, 1.37]']) has a score of: 73\n",
      "Individual(['[33, 42, 22, 0.63]', '[99, 94, 61, 1.53]']) has a score of: 132\n",
      "Individual(['[32, 45, 29, 0.45]', '[94, 73, 81, 1.73]']) has a score of: 126\n",
      "Individual(['[32, 23, 38, 0.11]', '[84, 61, 84, 1.6]']) has a score of: 116\n",
      "Individual(['[15, 19, 25, 0.4]', '[82, 62, 96, 1.88]']) has a score of: 97\n",
      "Individual(['[42, 21, 26, 0.5]', '[59, 57, 78, 1.5]']) has a score of: 101\n",
      "Individual(['[35, 38, 36, 0.11]', '[99, 63, 85, 1.65]']) has a score of: 134\n"
     ]
    }
   ],
   "source": [
    "pop.print_population()"
   ]
  },
  {
   "cell_type": "markdown",
   "id": "dd056381",
   "metadata": {},
   "source": [
    "The next generation can then be generated "
   ]
  },
  {
   "cell_type": "code",
   "execution_count": 16,
   "id": "fc1ada74",
   "metadata": {},
   "outputs": [
    {
     "name": "stdout",
     "output_type": "stream",
     "text": [
      "Individual(['[9, 47, 23, 0.53]', '[76, 70, 89, 1.71]']) has a score of: 85\n",
      "Individual(['[34, 47, 23, 0.39]', '[57, 90, 67, 1.71]']) has a score of: 91\n",
      "Individual(['[32, 45, 20, 0.45]', '[87, 73, 81, 1.82]']) has a score of: 119\n",
      "Individual(['[23, 47, 38, 0.89]', '[57, 70, 71, 1.37]']) has a score of: 80\n",
      "Individual(['[32, 45, 23, 0.2]', '[79, 73, 87, 1.72]']) has a score of: 111\n",
      "Individual(['[27, 42, 36, 0.41]', '[72, 94, 99, 1.35]']) has a score of: 99\n",
      "Individual(['[30, 48, 13, 0.17]', '[77, 88, 61, 1.53]']) has a score of: 107\n",
      "Individual(['[35, 38, 22, 0.11]', '[99, 63, 91, 1.53]']) has a score of: 134\n",
      "Individual(['[40, 18, 25, 0.39]', '[81, 64, 57, 1.52]']) has a score of: 121\n",
      "Individual(['[24, 36, 29, 0.67]', '[88, 89, 87, 1.73]']) has a score of: 112\n",
      "Individual(['[32, 47, 5, 0.77]', '[94, 53, 81, 1.82]']) has a score of: 126\n",
      "Individual(['[23, 42, 22, 0.77]', '[99, 56, 60, 1.53]']) has a score of: 122\n"
     ]
    }
   ],
   "source": [
    "pop.next_generation()\n",
    "pop.print_population()"
   ]
  },
  {
   "cell_type": "markdown",
   "id": "b51bb01f",
   "metadata": {},
   "source": [
    "So to run the full GA "
   ]
  },
  {
   "cell_type": "code",
   "execution_count": 17,
   "id": "0039c114",
   "metadata": {},
   "outputs": [
    {
     "name": "stdout",
     "output_type": "stream",
     "text": [
      "Individual(['[49, 18, 10, 0.21]', '[72, 70, 78, 1.13]']) has a score of: 121\n",
      "Individual(['[44, 17, 34, 0.39]', '[94, 85, 75, 1.89]']) has a score of: 138\n",
      "Individual(['[44, 49, 10, 0.48]', '[51, 72, 95, 1.68]']) has a score of: 95\n",
      "Individual(['[27, 6, 15, 0.88]', '[67, 92, 81, 1.67]']) has a score of: 94\n",
      "Individual(['[32, 46, 48, 0.52]', '[71, 74, 64, 1.82]']) has a score of: 103\n",
      "Individual(['[45, 6, 23, 0.64]', '[61, 74, 64, 1.83]']) has a score of: 106\n",
      "Individual(['[1, 13, 27, 0.34]', '[80, 85, 64, 1.59]']) has a score of: 81\n",
      "Individual(['[47, 49, 28, 0.17]', '[94, 85, 70, 1.59]']) has a score of: 141\n",
      "Individual(['[40, 6, 37, 0.8]', '[64, 53, 88, 1.37]']) has a score of: 104\n",
      "Individual(['[39, 24, 38, 0.36]', '[92, 74, 81, 1.83]']) has a score of: 131\n",
      "Individual(['[22, 46, 33, 0.34]', '[66, 53, 92, 1.87]']) has a score of: 88\n",
      "Individual(['[39, 19, 19, 0.13]', '[79, 76, 75, 1.87]']) has a score of: 118\n"
     ]
    }
   ],
   "source": [
    "for _ in range(num_gens):\n",
    "    pop.next_generation()\n",
    "pop.print_population()"
   ]
  },
  {
   "cell_type": "markdown",
   "id": "9a0fe158",
   "metadata": {},
   "source": [
    "## BestHistory"
   ]
  },
  {
   "cell_type": "markdown",
   "id": "048730bb",
   "metadata": {},
   "source": [
    "BestHistory is a class to store the history and check convergence criteria. So the entire GA can be run, printed, and saved using the following code snippet:"
   ]
  },
  {
   "cell_type": "code",
   "execution_count": 18,
   "id": "e0272354",
   "metadata": {},
   "outputs": [
    {
     "name": "stdout",
     "output_type": "stream",
     "text": [
      "Initial population of size 12 generated\n",
      "Generation 0\n",
      "Best Individual Individual(['[30, 29, 32, 0.13]', '[98, 61, 82, 1.57]']) with a score of 128 added to history\n",
      "-------\n",
      "Generation 1\n",
      "Best Individual Individual(['[35, 49, 5, 0.12]', '[98, 61, 82, 1.77]']) with a score of 133 added to history\n",
      "-------\n",
      "Generation 2\n",
      "Best Individual Individual(['[35, 17, 23, 0.9]', '[98, 93, 82, 1.77]']) with a score of 133 added to history\n",
      "-------\n",
      "Generation 3\n",
      "Best Individual Individual(['[48, 17, 11, 0.68]', '[98, 93, 82, 1.63]']) with a score of 146 added to history\n",
      "-------\n",
      "Generation 4\n",
      "Best Individual Individual(['[48, 14, 27, 0.47]', '[99, 61, 99, 1.22]']) with a score of 147 added to history\n",
      "-------\n",
      "Generation 5\n",
      "Best Individual Individual(['[48, 42, 27, 0.51]', '[99, 93, 99, 1.63]']) with a score of 147 added to history\n",
      "SOAP_GAS has converged\n",
      "-------\n"
     ]
    }
   ],
   "source": [
    "hist = BestHistory(early_stop, early_number, min_generations)\n",
    "pop = Population(best_sample, lucky_few, population_size, \n",
    "                 number_of_children, gene_parameters, \n",
    "                 maximise_scores = True)\n",
    "\n",
    "pop.initialise_population()    \n",
    "for gen in range(num_gens):\n",
    "    if hist.converged:\n",
    "        break\n",
    "    print(f\"Generation {gen}\")\n",
    "    pop.next_generation()\n",
    "    hist.append(pop)\n",
    "    print(\"-------\")"
   ]
  },
  {
   "cell_type": "markdown",
   "id": "fe539129",
   "metadata": {},
   "source": [
    "There now exists the entire history of the best Individuals throughout each generation that can be saved and easily accessed. "
   ]
  },
  {
   "cell_type": "code",
   "execution_count": 19,
   "id": "58f53c62",
   "metadata": {},
   "outputs": [
    {
     "data": {
      "text/plain": [
       "{'history': [Individual(['GeneSet(30, 29, 32, 0.13)', 'GeneSet(98, 61, 82, 1.57)']),\n",
       "  Individual(['GeneSet(35, 49, 5, 0.12)', 'GeneSet(98, 61, 82, 1.77)']),\n",
       "  Individual(['GeneSet(35, 17, 23, 0.9)', 'GeneSet(98, 93, 82, 1.77)']),\n",
       "  Individual(['GeneSet(48, 17, 11, 0.68)', 'GeneSet(98, 93, 82, 1.63)']),\n",
       "  Individual(['GeneSet(48, 14, 27, 0.47)', 'GeneSet(99, 61, 99, 1.22)']),\n",
       "  Individual(['GeneSet(48, 42, 27, 0.51)', 'GeneSet(99, 93, 99, 1.63)'])],\n",
       " 'converged': True,\n",
       " 'early_stop': 2,\n",
       " 'early_number': 3,\n",
       " 'min_generations': 5}"
      ]
     },
     "execution_count": 19,
     "metadata": {},
     "output_type": "execute_result"
    }
   ],
   "source": [
    "vars(hist)"
   ]
  },
  {
   "cell_type": "code",
   "execution_count": 20,
   "id": "052cbdbb",
   "metadata": {},
   "outputs": [],
   "source": [
    "example_gene_set.cutoff = 5\n",
    "example_gene_set.l_max = 3\n",
    "example_gene_set.n_max = 6"
   ]
  },
  {
   "cell_type": "code",
   "execution_count": 21,
   "id": "6fa0d5a3",
   "metadata": {},
   "outputs": [
    {
     "name": "stdout",
     "output_type": "stream",
     "text": [
      "conf_s file exists\n"
     ]
    }
   ],
   "source": [
    "test_ind = Individual([example_gene_set])\n",
    "conf_s, data = get_conf()"
   ]
  },
  {
   "cell_type": "code",
   "execution_count": 22,
   "id": "c3ef00e2",
   "metadata": {},
   "outputs": [
    {
     "data": {
      "text/plain": [
       "[Atoms(symbols='COC6NCOC4ClC7O2C2O2H18', pbc=False),\n",
       " Atoms(symbols='C2ONC6OH9', pbc=False),\n",
       " Atoms(symbols='C3SO2C6FCONC7NCF3OH14', pbc=False),\n",
       " Atoms(symbols='C6NC6NC3OC7NOH25', pbc=False),\n",
       " Atoms(symbols='C25H34O6', pbc=False),\n",
       " Atoms(symbols='C3SCONC5O2H15', pbc=False),\n",
       " Atoms(symbols='COC6OC2NC3OC12NOH26', pbc=False),\n",
       " Atoms(symbols='C10N2C6SO2NCF3H14', pbc=False),\n",
       " Atoms(symbols='C9ONCOCCl2ONO2H12', pbc=False),\n",
       " Atoms(symbols='C2NC2NC22H28', pbc=False),\n",
       " Atoms(symbols='C14ClOC6NCH26', pbc=False),\n",
       " Atoms(symbols='C19ClNC2NCH17', pbc=False),\n",
       " Atoms(symbols='C12OC10NOH27', pbc=False),\n",
       " Atoms(symbols='C2OCSCONC3NCONFH10', pbc=False),\n",
       " Atoms(symbols='C10OC8OH24', pbc=False),\n",
       " Atoms(symbols='C9ONC6FC9FO2H21', pbc=False),\n",
       " Atoms(symbols='C2OCOC2NC9Cl2CO2C3H19', pbc=False),\n",
       " Atoms(symbols='C14FCO2H13', pbc=False),\n",
       " Atoms(symbols='C7O2C3O2NC7NC2ClH17', pbc=False),\n",
       " Atoms(symbols='C23H28ClN3O5S', pbc=False),\n",
       " Atoms(symbols='CNC6SO2NSO2NClH8', pbc=False),\n",
       " Atoms(symbols='C5OC14OCO2COH30', pbc=False),\n",
       " Atoms(symbols='CNC7F3SO2NSO2NH8', pbc=False),\n",
       " Atoms(symbols='C13O2H18', pbc=False),\n",
       " Atoms(symbols='C5NCOC6ClC4OC3O2H16', pbc=False),\n",
       " Atoms(symbols='C6NC2O2C8NONC2O2CH21', pbc=False),\n",
       " Atoms(symbols='C9OC7O2H14', pbc=False),\n",
       " Atoms(symbols='C9NC4NCNC5ONC2OH26', pbc=False),\n",
       " Atoms(symbols='C2NC7ONC7SO2NClH16', pbc=False),\n",
       " Atoms(symbols='C10OC5OC3H26', pbc=False),\n",
       " Atoms(symbols='C6NC2O2C7NO2CO2CH18', pbc=False),\n",
       " Atoms(symbols='CSO2NC6NO3C6H12', pbc=False),\n",
       " Atoms(symbols='CNC2NO2NC2SC3SCNCNC2H21', pbc=False),\n",
       " Atoms(symbols='C29H53NO5', pbc=False),\n",
       " Atoms(symbols='C4NCNC6OCONC3H21', pbc=False),\n",
       " Atoms(symbols='C28H29F2N3O', pbc=False),\n",
       " Atoms(symbols='C25H38O5', pbc=False),\n",
       " Atoms(symbols='C24H32O4S', pbc=False),\n",
       " Atoms(symbols='C13SOC5FC2O2H17', pbc=False),\n",
       " Atoms(symbols='C16OC2NC8H29', pbc=False),\n",
       " Atoms(symbols='C3NCNC2NCNCNOCPO3H14', pbc=False),\n",
       " Atoms(symbols='C10OC5OC4H28', pbc=False),\n",
       " Atoms(symbols='C2SO2C2NCNC2NO2CH13', pbc=False),\n",
       " Atoms(symbols='C7SO2NCON2C6H21', pbc=False),\n",
       " Atoms(symbols='C2OC16OCO2H16', pbc=False),\n",
       " Atoms(symbols='CNC5NC9OCONH21', pbc=False),\n",
       " Atoms(symbols='C3SC6NCN2CO2CH15', pbc=False),\n",
       " Atoms(symbols='C14NCONH12', pbc=False),\n",
       " Atoms(symbols='C4OC4OC2OC4OCOCClOCH17', pbc=False),\n",
       " Atoms(symbols='C6O2C2OC3O3CO5H22', pbc=False),\n",
       " Atoms(symbols='C2NCSNCN2CSC3NSO2N2H15', pbc=False),\n",
       " Atoms(symbols='C3NC3OC3SOCNC2NC4OCH19', pbc=False),\n",
       " Atoms(symbols='C2OC6NCOC3OH17', pbc=False),\n",
       " Atoms(symbols='C4OC8ONOH17', pbc=False),\n",
       " Atoms(symbols='CNCNC3ONCONC2H10', pbc=False),\n",
       " Atoms(symbols='C6ClNCO2H4', pbc=False),\n",
       " Atoms(symbols='C12F2CO3H8', pbc=False),\n",
       " Atoms(symbols='C6O6H14', pbc=False),\n",
       " Atoms(symbols='C13OC3O2H14', pbc=False),\n",
       " Atoms(symbols='C6NC3OC4FCO2H12', pbc=False),\n",
       " Atoms(symbols='C4O2C6OH8', pbc=False),\n",
       " Atoms(symbols='C8NC8OCO2H15', pbc=False),\n",
       " Atoms(symbols='C7NC7O2CH15', pbc=False),\n",
       " Atoms(symbols='C12OC2O2H14', pbc=False),\n",
       " Atoms(symbols='C3NC3OC8NOH20', pbc=False),\n",
       " Atoms(symbols='C4ONCNCOC6H14', pbc=False),\n",
       " Atoms(symbols='C3NC3SO2C7O2H19', pbc=False),\n",
       " Atoms(symbols='C2NC2NCONH5', pbc=False),\n",
       " Atoms(symbols='C7ONSO2H5', pbc=False),\n",
       " Atoms(symbols='C7O3H6', pbc=False),\n",
       " Atoms(symbols='C2NC4ONCNC10OC6FH26', pbc=False),\n",
       " Atoms(symbols='C4NONSO2C6NH11', pbc=False),\n",
       " Atoms(symbols='C6NSO2NH8', pbc=False),\n",
       " Atoms(symbols='CNC3ONCOCNCNH8', pbc=False),\n",
       " Atoms(symbols='C7ClNC7O2H12', pbc=False),\n",
       " Atoms(symbols='COC6OCOC4NCNCN2H18', pbc=False),\n",
       " Atoms(symbols='C8NOH11', pbc=False),\n",
       " Atoms(symbols='C6ClNCONH5', pbc=False),\n",
       " Atoms(symbols='C33H30N4O2', pbc=False),\n",
       " Atoms(symbols='COC2NCOC3SCOCONCO2NCOC5SH17', pbc=False),\n",
       " Atoms(symbols='C4OC7OCO2C5OC4H26', pbc=False),\n",
       " Atoms(symbols='C6O2C4OCO3CO5H22', pbc=False),\n",
       " Atoms(symbols='C7O2C5OCO4H18', pbc=False),\n",
       " Atoms(symbols='CNCOCNC7ClC6H13', pbc=False),\n",
       " Atoms(symbols='C2OCONC10NC7ClC2H23', pbc=False),\n",
       " Atoms(symbols='C2OC6SO2NCONC6H20', pbc=False),\n",
       " Atoms(symbols='C19NC2NCH18', pbc=False),\n",
       " Atoms(symbols='C14OC7Cl2H26', pbc=False),\n",
       " Atoms(symbols='C2NC4OCOC6NH20', pbc=False),\n",
       " Atoms(symbols='C37H48N6O5S2', pbc=False),\n",
       " Atoms(symbols='C9F3CF3OC2NC2OC2N2CONC6FH21', pbc=False),\n",
       " Atoms(symbols='C3ONCONC6NO2CF3CH10', pbc=False),\n",
       " Atoms(symbols='C31H48O2S2', pbc=False),\n",
       " Atoms(symbols='C8O2C2O2NC6Cl2H13', pbc=False),\n",
       " Atoms(symbols='C6Cl2COC2NC2NC7Cl2H14', pbc=False),\n",
       " Atoms(symbols='C2OCSCONC3NCONH11', pbc=False),\n",
       " Atoms(symbols='C6NSO2NCNC2SH9', pbc=False),\n",
       " Atoms(symbols='CNC7OCOC2OC6H23', pbc=False),\n",
       " Atoms(symbols='C6O6H14', pbc=False),\n",
       " Atoms(symbols='C4OCNC9ONC2NC4H29', pbc=False),\n",
       " Atoms(symbols='C7OC3O2H14', pbc=False),\n",
       " Atoms(symbols='C4ON2C7H12', pbc=False),\n",
       " Atoms(symbols='C5OC14OCH30', pbc=False),\n",
       " Atoms(symbols='C6ON2COC12H20', pbc=False),\n",
       " Atoms(symbols='C2OC14OC5H30', pbc=False),\n",
       " Atoms(symbols='C7ONCONCOC2H18', pbc=False),\n",
       " Atoms(symbols='C5O5H10', pbc=False),\n",
       " Atoms(symbols='C4ONCONCOC5H18', pbc=False),\n",
       " Atoms(symbols='C7NC2SOC10H17', pbc=False),\n",
       " Atoms(symbols='C9OC3OCOC2H18', pbc=False),\n",
       " Atoms(symbols='C28H44O', pbc=False),\n",
       " Atoms(symbols='C7NCOC2N2COC3NC2H18', pbc=False),\n",
       " Atoms(symbols='C2OCOC2NC9NO2CO2C3H20', pbc=False),\n",
       " Atoms(symbols='C12OC6OH20', pbc=False),\n",
       " Atoms(symbols='C3ONC2NSO2C6NH13', pbc=False),\n",
       " Atoms(symbols='CNC3ONCOCNCNC3O2H14', pbc=False),\n",
       " Atoms(symbols='C4ONCONCOC6H12', pbc=False),\n",
       " Atoms(symbols='C12OC7OCH26', pbc=False),\n",
       " Atoms(symbols='C2OC14OC4ClCOCOCH29', pbc=False),\n",
       " Atoms(symbols='C26H31ClN2O8S', pbc=False),\n",
       " Atoms(symbols='C6O2C2OC3O3CO5H22', pbc=False),\n",
       " Atoms(symbols='COC9NC5NCOC2OC4OCH26', pbc=False),\n",
       " Atoms(symbols='C24H40O4', pbc=False)]"
      ]
     },
     "execution_count": 22,
     "metadata": {},
     "output_type": "execute_result"
    }
   ],
   "source": [
    "conf_s"
   ]
  },
  {
   "cell_type": "code",
   "execution_count": 23,
   "id": "6adcc112",
   "metadata": {},
   "outputs": [
    {
     "name": "stdout",
     "output_type": "stream",
     "text": [
      "Mismatch in MP and SOAP matrix shapes for:  Atoms(symbols='C3NCNC2NCNCNOCPO3H14', pbc=False)\n",
      "SOAP shape of: (32, 3613)\n",
      "MP matrix shape of: (33, 33)\n",
      "The SOAP string is: soap cutoff=5 l_max=3 n_max=6 atom_sigma=0.74 n_Z=7 Z={8, 7, 6, 1, 16, 17, 9} n_species=7 species_Z={8, 7, 6, 1, 16, 17, 9} mu=0 mu_hat=0 nu=2 nu_hat=0\n"
     ]
    }
   ],
   "source": [
    "test_ind.comp_soaps(conf_s, data)"
   ]
  },
  {
   "cell_type": "code",
   "execution_count": 24,
   "id": "a612d669",
   "metadata": {},
   "outputs": [
    {
     "data": {
      "text/plain": [
       "(40, 3613)"
      ]
     },
     "execution_count": 24,
     "metadata": {},
     "output_type": "execute_result"
    }
   ],
   "source": [
    "test_ind.soaps.shape"
   ]
  },
  {
   "cell_type": "code",
   "execution_count": 25,
   "id": "614a45c3",
   "metadata": {},
   "outputs": [],
   "source": [
    "from sklearn.preprocessing import MinMaxScaler\n",
    "from tensorflow.keras import layers, optimizers, Model, backend\n",
    "from tensorflow.keras.layers import Input, Dense\n",
    "from tensorflow.keras.callbacks import EarlyStopping\n",
    "from scipy.stats import pearsonr\n",
    "from sklearn.metrics import mean_squared_error\n",
    "os.environ['TF_CPP_MIN_LOG_LEVEL'] = '2'"
   ]
  },
  {
   "cell_type": "code",
   "execution_count": 26,
   "id": "5737d0d8",
   "metadata": {},
   "outputs": [],
   "source": [
    "def cv_split(individual, splits, repeats, random_state):\n",
    "    \"\"\"\n",
    "    Returns split indices for train and test sets\n",
    "    \"\"\"\n",
    "    cv = RepeatedKFold(n_splits = splits, n_repeats = repeats, random_state = random_state)\n",
    "    for train_index, test_index in cv.split(soaps):\n",
    "        print(train_index, test_index) "
   ]
  },
  {
   "cell_type": "code",
   "execution_count": 27,
   "id": "dc22974a",
   "metadata": {},
   "outputs": [],
   "source": [
    "def scaleData(train, test):\n",
    "    scaler = MinMaxScaler()\n",
    "    train_scaled = scaler.fit_transform(train)\n",
    "    test_scaled = scaler.transform(test)\n",
    "\n",
    "    return train_scaled, test_scaled, scaler"
   ]
  },
  {
   "cell_type": "code",
   "execution_count": 28,
   "id": "ea2f6d31",
   "metadata": {},
   "outputs": [],
   "source": [
    "def buildModel(X):\n",
    "    backend.clear_session()\n",
    "    input_layer = Input(X.shape[1])\n",
    "    hidden_layer = input_layer\n",
    "    for layer in [30,30,30]:\n",
    "        hidden_layer = Dense(layer, activation='relu')(hidden_layer)\n",
    "\n",
    "    output_layer = Dense(units=1, activation='linear')(hidden_layer)\n",
    "    model = Model(input_layer, output_layer)\n",
    "    model.compile(loss='mean_squared_error', optimizer=optimizers.Adam(learning_rate=0.01), metrics=['mean_squared_error'])\n",
    "\n",
    "    return model"
   ]
  },
  {
   "cell_type": "code",
   "execution_count": 29,
   "id": "241b3765",
   "metadata": {},
   "outputs": [],
   "source": [
    "\n",
    "def get_scores(Individual, train_index, test_index, scaling = None, **kwargs):\n",
    "    estimator = buildModel(Individual.soaps)\n",
    "    X_train, X_test, X_scaler = scaleData(Individual.soaps[train_index], Individual.soaps[test_index])\n",
    "    y_train, y_test, y_scaler = scaleData(Individual.targets[train_index].reshape(-1,1), Individual.targets[test_index].reshape(-1,1))\n",
    "    scores = scorerNN(estimator, X_train, X_test, y_train, y_test, y_scaler)\n",
    "    print(scores[0])\n",
    "    return scores"
   ]
  },
  {
   "cell_type": "code",
   "execution_count": 34,
   "id": "0cb2ff4e",
   "metadata": {},
   "outputs": [],
   "source": [
    "def scorerNN(estimator, X_train, X_test, y_train, y_test, y_scaler):\n",
    "    \"\"\" Scoring function for use with NN regressor. Added by Matt. \"\"\"\n",
    "\n",
    "    callback = EarlyStopping(monitor='val_loss', patience=50)\n",
    "    estimator.fit(X_train, y_train, callbacks=[callback], validation_split=0.1, epochs=200, verbose=False)\n",
    "    y_test_pred, y_train_pred = estimator.predict(X_test, verbose=False), estimator.predict(X_train, verbose=False)\n",
    "    y_test_pred, y_train_pred = np.ravel(y_scaler.inverse_transform(y_test_pred)), np.ravel(y_scaler.inverse_transform(y_train_pred))\n",
    "    y_test = np.ravel(y_test)\n",
    "    y_train = np.ravel(y_train)\n",
    "    testCorr = pearsonr(y_test, y_test_pred)[0]\n",
    "    trainCorr = pearsonr(y_train, y_train_pred)[0]\n",
    "    testMSE = mean_squared_error(y_test, y_test_pred)\n",
    "    trainMSE =  mean_squared_error(y_train, y_train_pred)\n",
    "    return (2 * (trainMSE * (1-trainCorr)) + (testMSE * (1-testCorr))), X_train, X_test, y_train, y_test, y_test_pred, y_train_pred"
   ]
  },
  {
   "cell_type": "code",
   "execution_count": 35,
   "id": "3da569df",
   "metadata": {},
   "outputs": [
    {
     "name": "stdout",
     "output_type": "stream",
     "text": [
      "WARNING:tensorflow:5 out of the last 5 calls to <function Model.make_predict_function.<locals>.predict_function at 0x7f7f2333bf28> triggered tf.function retracing. Tracing is expensive and the excessive number of tracings could be due to (1) creating @tf.function repeatedly in a loop, (2) passing tensors with different shapes, (3) passing Python objects instead of tensors. For (1), please define your @tf.function outside of the loop. For (2), @tf.function has experimental_relax_shapes=True option that relaxes argument shapes that can avoid unnecessary retracing. For (3), please refer to https://www.tensorflow.org/guide/function#controlling_retracing and https://www.tensorflow.org/api_docs/python/tf/function for  more details.\n",
      "WARNING:tensorflow:6 out of the last 6 calls to <function Model.make_predict_function.<locals>.predict_function at 0x7f7f2333bf28> triggered tf.function retracing. Tracing is expensive and the excessive number of tracings could be due to (1) creating @tf.function repeatedly in a loop, (2) passing tensors with different shapes, (3) passing Python objects instead of tensors. For (1), please define your @tf.function outside of the loop. For (2), @tf.function has experimental_relax_shapes=True option that relaxes argument shapes that can avoid unnecessary retracing. For (3), please refer to https://www.tensorflow.org/guide/function#controlling_retracing and https://www.tensorflow.org/api_docs/python/tf/function for  more details.\n",
      "214403.34070760768\n",
      "190655.05887630995\n",
      "111676.89074412467\n",
      "198327.0521714487\n",
      "124938.06866380203\n",
      "80274.06370105426\n",
      "268812.504723915\n",
      "464457.1047346276\n",
      "237376.088376651\n",
      "85861.69157290537\n"
     ]
    }
   ],
   "source": [
    "cv = RepeatedKFold(n_splits = 5, n_repeats = 2, random_state = 6)\n",
    "for train_index, test_index in cv.split(test_ind.soaps):\n",
    "    get_scores(test_ind, train_index, test_index)"
   ]
  },
  {
   "cell_type": "code",
   "execution_count": 41,
   "id": "6c8c242a",
   "metadata": {},
   "outputs": [],
   "source": [
    "# type(t.dtype)"
   ]
  },
  {
   "cell_type": "code",
   "execution_count": 38,
   "id": "71f0189a",
   "metadata": {},
   "outputs": [],
   "source": [
    "def build_model(individual):\n",
    "    if individual.targets.dtype == float:\n",
    "        target_type = 'regression'\n",
    "    elif individual.targets.dtype == (int or str):\n",
    "        target_type = 'classification'\n",
    "    estimator = 3\n",
    "    return estimator, target_type"
   ]
  },
  {
   "cell_type": "code",
   "execution_count": 39,
   "id": "a3844037",
   "metadata": {},
   "outputs": [
    {
     "data": {
      "text/plain": [
       "(3, 'regression')"
      ]
     },
     "execution_count": 39,
     "metadata": {},
     "output_type": "execute_result"
    }
   ],
   "source": [
    "build_model(test_ind)"
   ]
  },
  {
   "cell_type": "code",
   "execution_count": null,
   "id": "13d39ff9",
   "metadata": {},
   "outputs": [],
   "source": []
  },
  {
   "cell_type": "code",
   "execution_count": null,
   "id": "fb005c2a",
   "metadata": {},
   "outputs": [],
   "source": []
  }
 ],
 "metadata": {
  "kernelspec": {
   "display_name": "Python 3",
   "language": "python",
   "name": "python3"
  },
  "language_info": {
   "codemirror_mode": {
    "name": "ipython",
    "version": 3
   },
   "file_extension": ".py",
   "mimetype": "text/x-python",
   "name": "python",
   "nbconvert_exporter": "python",
   "pygments_lexer": "ipython3",
   "version": "3.6.13"
  },
  "toc": {
   "base_numbering": 1,
   "nav_menu": {},
   "number_sections": true,
   "sideBar": true,
   "skip_h1_title": false,
   "title_cell": "Table of Contents",
   "title_sidebar": "Contents",
   "toc_cell": false,
   "toc_position": {
    "height": "calc(100% - 180px)",
    "left": "10px",
    "top": "150px",
    "width": "325.797px"
   },
   "toc_section_display": true,
   "toc_window_display": true
  }
 },
 "nbformat": 4,
 "nbformat_minor": 5
}
