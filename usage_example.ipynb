{
 "cells": [
  {
   "cell_type": "markdown",
   "id": "9e26ef0c",
   "metadata": {},
   "source": [
    "## Before running"
   ]
  },
  {
   "cell_type": "markdown",
   "id": "11959e51",
   "metadata": {},
   "source": [
    "A virtual environment can be created using \n",
    "- 'pipenv install'\n",
    "- 'pipenv shell'\n",
    "\n",
    "This will allow us to all use the same packages and versions. They are listed in the Pipfile"
   ]
  },
  {
   "cell_type": "code",
   "execution_count": 1,
   "id": "290624e9",
   "metadata": {},
   "outputs": [],
   "source": [
    "from refactoring import *"
   ]
  },
  {
   "cell_type": "markdown",
   "id": "9abf6067",
   "metadata": {},
   "source": [
    "## Inputs"
   ]
  },
  {
   "cell_type": "markdown",
   "id": "b7b3a8c5",
   "metadata": {},
   "source": [
    "Dictionaries are taken as input from a parameter file, they contain the parameters for each soap descriptor"
   ]
  },
  {
   "cell_type": "code",
   "execution_count": 2,
   "id": "a65c9154",
   "metadata": {},
   "outputs": [],
   "source": [
    "descDict1 = {'lower': 1, 'upper': 50, 'centres': '{8, 7, 6, 1, 16, 17, 9}',\n",
    "             'neighbours': '{8, 7, 6, 1, 16, 17, 9}', 'mu': 0, \n",
    "             'mu_hat': 0, 'nu': 2, 'nu_hat': 0, 'mutation_chance': 0.50, \n",
    "             'min_cutoff': 1, 'max_cutoff': 50, 'min_sigma': 0.1, \n",
    "             'max_sigma': 0.9}\n",
    "\n",
    "descDict2 = {'lower': 51, 'upper': 100, 'centres': '{8, 7, 6, 1, 16, 17, 9}',\n",
    "             'neighbours': '{8, 7, 6, 1, 16, 17, 9}', 'mu': 0, \n",
    "             'mu_hat': 0, 'nu': 2, 'nu_hat': 0, 'mutation_chance': 0.50,\n",
    "             'min_cutoff': 51, 'max_cutoff': 100, 'min_sigma': 1.1, \n",
    "             'max_sigma': 1.9}"
   ]
  },
  {
   "cell_type": "markdown",
   "id": "83e31fb5",
   "metadata": {},
   "source": [
    "Other parameters are also taken as input. These are automatically checked that the parameters are viable"
   ]
  },
  {
   "cell_type": "code",
   "execution_count": 3,
   "id": "bb86204d",
   "metadata": {},
   "outputs": [],
   "source": [
    "num_gens = 100\n",
    "best_sample, lucky_few, population_size, number_of_children = 4, 2, 12, 4\n",
    "early_stop = 2\n",
    "early_number = 3 \n",
    "min_generations = 5"
   ]
  },
  {
   "cell_type": "markdown",
   "id": "c9d7f5e1",
   "metadata": {},
   "source": [
    "## GeneParameter"
   ]
  },
  {
   "cell_type": "markdown",
   "id": "94a756a1",
   "metadata": {},
   "source": [
    "GeneParameter class is created from each descriptor dictionary. "
   ]
  },
  {
   "cell_type": "code",
   "execution_count": 4,
   "id": "c6a220fc",
   "metadata": {},
   "outputs": [],
   "source": [
    "params1 = GeneParameters(**descDict1)\n",
    "params2 = GeneParameters(**descDict2)"
   ]
  },
  {
   "cell_type": "code",
   "execution_count": 5,
   "id": "c3c2af77",
   "metadata": {},
   "outputs": [
    {
     "data": {
      "text/plain": [
       "GeneParameters(lower=1, upper=50, centres='{8, 7, 6, 1, 16, 17, 9}', neighbours='{8, 7, 6, 1, 16, 17, 9}', mu=0, mu_hat=0, nu=2, nu_hat=0, mutation_chance=0.5, min_cutoff=1, max_cutoff=50, min_sigma=0.1, max_sigma=0.9)"
      ]
     },
     "execution_count": 5,
     "metadata": {},
     "output_type": "execute_result"
    }
   ],
   "source": [
    "params1"
   ]
  },
  {
   "cell_type": "markdown",
   "id": "f8736b78",
   "metadata": {},
   "source": [
    "## GeneSet"
   ]
  },
  {
   "cell_type": "markdown",
   "id": "6cb6ee73",
   "metadata": {},
   "source": [
    "We can use these classes to create a specific set of parameters that are consistant with these values. This returns a randomly generated GeneSet class"
   ]
  },
  {
   "cell_type": "code",
   "execution_count": 6,
   "id": "cb110b00",
   "metadata": {},
   "outputs": [
    {
     "data": {
      "text/plain": [
       "GeneSet(39, 49, 6, 0.14)"
      ]
     },
     "execution_count": 6,
     "metadata": {},
     "output_type": "execute_result"
    }
   ],
   "source": [
    "example_gene_set = params1.make_gene_set()\n",
    "example_gene_set"
   ]
  },
  {
   "cell_type": "markdown",
   "id": "abc0b2f4",
   "metadata": {},
   "source": [
    "We can get the parameters used to create the GeneSet class"
   ]
  },
  {
   "cell_type": "code",
   "execution_count": 7,
   "id": "75f3f54a",
   "metadata": {},
   "outputs": [
    {
     "data": {
      "text/plain": [
       "GeneParameters(lower=1, upper=50, centres='{8, 7, 6, 1, 16, 17, 9}', neighbours='{8, 7, 6, 1, 16, 17, 9}', mu=0, mu_hat=0, nu=2, nu_hat=0, mutation_chance=0.5, min_cutoff=1, max_cutoff=50, min_sigma=0.1, max_sigma=0.9)"
      ]
     },
     "execution_count": 7,
     "metadata": {},
     "output_type": "execute_result"
    }
   ],
   "source": [
    "example_gene_set.gene_parameters"
   ]
  },
  {
   "cell_type": "markdown",
   "id": "71514327",
   "metadata": {},
   "source": [
    "We can get a descriptor string to be used as an input for getting SOAPs"
   ]
  },
  {
   "cell_type": "code",
   "execution_count": 8,
   "id": "c02e1b69",
   "metadata": {},
   "outputs": [
    {
     "data": {
      "text/plain": [
       "'soap average cutoff=39 l_max=49 n_max=6 atom_sigma=0.14 n_Z=7 Z={8, 7, 6, 1, 16, 17, 9} n_species=7 species_Z={8, 7, 6, 1, 16, 17, 9} mu=0 mu_hat=0 nu=2 nu_hat=0'"
      ]
     },
     "execution_count": 8,
     "metadata": {},
     "output_type": "execute_result"
    }
   ],
   "source": [
    "example_gene_set.get_soap_string()"
   ]
  },
  {
   "cell_type": "markdown",
   "id": "f9735a2b",
   "metadata": {},
   "source": [
    "We can also mutate the gene using the mutation chance in the GeneParameters class"
   ]
  },
  {
   "cell_type": "code",
   "execution_count": 9,
   "id": "d07dab90",
   "metadata": {},
   "outputs": [
    {
     "name": "stdout",
     "output_type": "stream",
     "text": [
      "Before mutation [39, 49, 6, 0.14]\n",
      "After mutation [46, 49, 19, 0.14]\n"
     ]
    }
   ],
   "source": [
    "print(f\"Before mutation {example_gene_set}\")\n",
    "example_gene_set.mutate_gene()\n",
    "print(f\"After mutation {example_gene_set}\")"
   ]
  },
  {
   "cell_type": "markdown",
   "id": "b079180e",
   "metadata": {},
   "source": [
    "## Individual"
   ]
  },
  {
   "cell_type": "markdown",
   "id": "d3581dd2",
   "metadata": {},
   "source": [
    "An Individual is made up of a list of GeneSet classes."
   ]
  },
  {
   "cell_type": "code",
   "execution_count": 10,
   "id": "df9161b7",
   "metadata": {},
   "outputs": [
    {
     "data": {
      "text/plain": [
       "Individual(['GeneSet(46, 49, 19, 0.14)', 'GeneSet(96, 92, 53, 1.36)'])"
      ]
     },
     "execution_count": 10,
     "metadata": {},
     "output_type": "execute_result"
    }
   ],
   "source": [
    "example_gene_set_two = params2.make_gene_set()\n",
    "gene_set_list = [example_gene_set, example_gene_set_two]\n",
    "example_individual = Individual(gene_set_list)\n",
    "example_individual"
   ]
  },
  {
   "cell_type": "markdown",
   "id": "c316db72",
   "metadata": {},
   "source": [
    "Getting the score for an indivudual"
   ]
  },
  {
   "cell_type": "code",
   "execution_count": 11,
   "id": "7d22c3ca",
   "metadata": {},
   "outputs": [
    {
     "data": {
      "text/plain": [
       "142"
      ]
     },
     "execution_count": 11,
     "metadata": {},
     "output_type": "execute_result"
    }
   ],
   "source": [
    "example_individual.get_score()\n",
    "example_individual.score"
   ]
  },
  {
   "cell_type": "markdown",
   "id": "2880e5d2",
   "metadata": {},
   "source": [
    "Breeding two individuals to create a child. Mutation is automatically performed during this"
   ]
  },
  {
   "cell_type": "code",
   "execution_count": 12,
   "id": "cdc42bef",
   "metadata": {},
   "outputs": [
    {
     "name": "stdout",
     "output_type": "stream",
     "text": [
      "Breeding Individual(['[46, 49, 19, 0.14]', '[96, 92, 53, 1.36]']) with Individual(['[46, 49, 19, 0.14]', '[96, 92, 53, 1.36]'])\n",
      "Created child Individual(['[46, 19, 42, 0.14]', '[96, 92, 71, 1.36]'])\n"
     ]
    }
   ],
   "source": [
    "example_individual_two = Individual(gene_set_list)\n",
    "print(f\"Breeding {example_individual} with {example_individual_two}\")\n",
    "child = breed_individuals(example_individual, example_individual_two)\n",
    "print(f\"Created child {child}\")"
   ]
  },
  {
   "cell_type": "markdown",
   "id": "da9ba698",
   "metadata": {},
   "source": [
    "## Population"
   ]
  },
  {
   "cell_type": "markdown",
   "id": "7100c58c",
   "metadata": {},
   "source": [
    "A Population is a collection of Individual classes. This can be created using a list of GeneParameter classes"
   ]
  },
  {
   "cell_type": "code",
   "execution_count": 13,
   "id": "e5313a81",
   "metadata": {},
   "outputs": [
    {
     "data": {
      "text/plain": [
       "Population(4, 2, 12, 4, [GeneParameters(lower=1, upper=50, centres='{8, 7, 6, 1, 16, 17, 9}', neighbours='{8, 7, 6, 1, 16, 17, 9}', mu=0, mu_hat=0, nu=2, nu_hat=0, mutation_chance=0.5, min_cutoff=1, max_cutoff=50, min_sigma=0.1, max_sigma=0.9), GeneParameters(lower=51, upper=100, centres='{8, 7, 6, 1, 16, 17, 9}', neighbours='{8, 7, 6, 1, 16, 17, 9}', mu=0, mu_hat=0, nu=2, nu_hat=0, mutation_chance=0.5, min_cutoff=51, max_cutoff=100, min_sigma=1.1, max_sigma=1.9)], True)"
      ]
     },
     "execution_count": 13,
     "metadata": {},
     "output_type": "execute_result"
    }
   ],
   "source": [
    "gene_parameters = [params1, params2]\n",
    "pop = Population(best_sample, lucky_few, population_size, \n",
    "                 number_of_children, gene_parameters, \n",
    "                 maximise_scores = True)\n",
    "pop"
   ]
  },
  {
   "cell_type": "markdown",
   "id": "67256c6f",
   "metadata": {},
   "source": [
    "To initialise the population"
   ]
  },
  {
   "cell_type": "code",
   "execution_count": 14,
   "id": "aa2d35f4",
   "metadata": {},
   "outputs": [
    {
     "name": "stdout",
     "output_type": "stream",
     "text": [
      "Initial population of size 12 generated\n"
     ]
    }
   ],
   "source": [
    "pop.initialise_population()"
   ]
  },
  {
   "cell_type": "markdown",
   "id": "192821fe",
   "metadata": {},
   "source": [
    "If you want a way of neatly seeing what individuals are in the population"
   ]
  },
  {
   "cell_type": "code",
   "execution_count": 15,
   "id": "9033e428",
   "metadata": {},
   "outputs": [
    {
     "name": "stdout",
     "output_type": "stream",
     "text": [
      "Individual(['[41, 20, 25, 0.79]', '[59, 52, 77, 1.64]']) has a score of: 100\n",
      "Individual(['[3, 5, 47, 0.12]', '[62, 89, 57, 1.44]']) has a score of: 65\n",
      "Individual(['[10, 37, 19, 0.16]', '[64, 64, 81, 1.53]']) has a score of: 74\n",
      "Individual(['[35, 2, 14, 0.54]', '[80, 56, 96, 1.72]']) has a score of: 115\n",
      "Individual(['[36, 31, 18, 0.69]', '[57, 99, 66, 1.3]']) has a score of: 93\n",
      "Individual(['[48, 42, 21, 0.24]', '[97, 86, 93, 1.63]']) has a score of: 145\n",
      "Individual(['[44, 3, 13, 0.41]', '[77, 82, 96, 1.65]']) has a score of: 121\n",
      "Individual(['[40, 13, 3, 0.82]', '[61, 89, 93, 1.79]']) has a score of: 101\n",
      "Individual(['[7, 42, 37, 0.11]', '[81, 97, 76, 1.52]']) has a score of: 88\n",
      "Individual(['[11, 14, 25, 0.7]', '[98, 79, 94, 1.83]']) has a score of: 109\n",
      "Individual(['[19, 17, 17, 0.62]', '[98, 90, 76, 1.16]']) has a score of: 117\n",
      "Individual(['[40, 17, 5, 0.59]', '[82, 54, 68, 1.13]']) has a score of: 122\n"
     ]
    }
   ],
   "source": [
    "pop.print_population()"
   ]
  },
  {
   "cell_type": "markdown",
   "id": "dd056381",
   "metadata": {},
   "source": [
    "The next generation can then be generated "
   ]
  },
  {
   "cell_type": "code",
   "execution_count": 16,
   "id": "fc1ada74",
   "metadata": {},
   "outputs": [
    {
     "name": "stdout",
     "output_type": "stream",
     "text": [
      "Individual(['[19, 40, 13, 0.49]', '[88, 91, 85, 1.65]']) has a score of: 107\n",
      "Individual(['[35, 17, 32, 0.41]', '[98, 84, 78, 1.66]']) has a score of: 133\n",
      "Individual(['[48, 17, 21, 0.78]', '[60, 82, 68, 1.63]']) has a score of: 108\n",
      "Individual(['[42, 15, 41, 0.41]', '[77, 90, 62, 1.65]']) has a score of: 119\n",
      "Individual(['[40, 41, 27, 0.38]', '[82, 54, 97, 1.13]']) has a score of: 122\n",
      "Individual(['[40, 42, 21, 0.59]', '[59, 86, 51, 1.8]']) has a score of: 99\n",
      "Individual(['[18, 37, 18, 0.69]', '[84, 54, 66, 1.3]']) has a score of: 102\n",
      "Individual(['[11, 31, 25, 0.64]', '[99, 99, 66, 1.15]']) has a score of: 110\n",
      "Individual(['[31, 17, 44, 0.41]', '[87, 82, 76, 1.76]']) has a score of: 118\n",
      "Individual(['[11, 31, 25, 0.7]', '[98, 63, 54, 1.3]']) has a score of: 109\n",
      "Individual(['[36, 40, 48, 0.7]', '[98, 87, 66, 1.82]']) has a score of: 134\n",
      "Individual(['[48, 13, 5, 0.13]', '[82, 86, 68, 1.63]']) has a score of: 130\n"
     ]
    }
   ],
   "source": [
    "pop.next_generation()\n",
    "pop.print_population()"
   ]
  },
  {
   "cell_type": "markdown",
   "id": "b51bb01f",
   "metadata": {},
   "source": [
    "So to run the full GA "
   ]
  },
  {
   "cell_type": "code",
   "execution_count": 17,
   "id": "0039c114",
   "metadata": {},
   "outputs": [
    {
     "name": "stdout",
     "output_type": "stream",
     "text": [
      "Individual(['[4, 48, 28, 0.26]', '[92, 85, 66, 1.45]']) has a score of: 96\n",
      "Individual(['[23, 29, 43, 0.72]', '[78, 92, 68, 1.42]']) has a score of: 101\n",
      "Individual(['[46, 33, 49, 0.26]', '[92, 79, 67, 1.45]']) has a score of: 138\n",
      "Individual(['[46, 33, 29, 0.26]', '[93, 65, 83, 1.45]']) has a score of: 139\n",
      "Individual(['[23, 33, 16, 0.33]', '[55, 98, 54, 1.13]']) has a score of: 78\n",
      "Individual(['[16, 17, 23, 0.44]', '[65, 84, 70, 1.63]']) has a score of: 81\n",
      "Individual(['[2, 17, 28, 0.44]', '[76, 54, 54, 1.7]']) has a score of: 78\n",
      "Individual(['[4, 31, 31, 0.72]', '[58, 99, 61, 1.3]']) has a score of: 62\n",
      "Individual(['[41, 33, 17, 0.7]', '[73, 97, 66, 1.7]']) has a score of: 114\n",
      "Individual(['[3, 33, 25, 0.86]', '[78, 51, 91, 1.3]']) has a score of: 81\n",
      "Individual(['[46, 33, 28, 0.71]', '[92, 65, 89, 1.71]']) has a score of: 138\n",
      "Individual(['[41, 48, 42, 0.43]', '[78, 63, 54, 1.37]']) has a score of: 119\n"
     ]
    }
   ],
   "source": [
    "for _ in range(num_gens):\n",
    "    pop.next_generation()\n",
    "pop.print_population()"
   ]
  },
  {
   "cell_type": "markdown",
   "id": "9a0fe158",
   "metadata": {},
   "source": [
    "## BestHistory"
   ]
  },
  {
   "cell_type": "markdown",
   "id": "048730bb",
   "metadata": {},
   "source": [
    "BestHistory is a class to store the history and check convergence criteria. So the entire GA can be run, printed, and saved using the following code snippet:"
   ]
  },
  {
   "cell_type": "code",
   "execution_count": 18,
   "id": "e0272354",
   "metadata": {},
   "outputs": [
    {
     "name": "stdout",
     "output_type": "stream",
     "text": [
      "Initial population of size 12 generated\n",
      "Generation 0\n",
      "Best Individual Individual(['[33, 48, 20, 0.54]', '[97, 91, 84, 1.17]']) with a score of 130 added to history\n",
      "-------\n",
      "Generation 1\n",
      "Best Individual Individual(['[39, 40, 19, 0.64]', '[95, 61, 99, 1.51]']) with a score of 134 added to history\n",
      "-------\n",
      "Generation 2\n",
      "Best Individual Individual(['[41, 26, 2, 0.83]', '[97, 95, 99, 1.14]']) with a score of 138 added to history\n",
      "-------\n",
      "Generation 3\n",
      "Best Individual Individual(['[44, 49, 4, 0.27]', '[97, 61, 90, 1.63]']) with a score of 141 added to history\n",
      "-------\n",
      "Generation 4\n",
      "Best Individual Individual(['[44, 30, 5, 0.5]', '[95, 64, 81, 1.19]']) with a score of 139 added to history\n",
      "-------\n",
      "Generation 5\n",
      "Best Individual Individual(['[48, 43, 6, 0.5]', '[95, 93, 76, 1.31]']) with a score of 143 added to history\n",
      "-------\n",
      "Generation 6\n",
      "Best Individual Individual(['[47, 30, 6, 0.42]', '[95, 93, 76, 1.35]']) with a score of 142 added to history\n",
      "SOAP_GAS has converged\n",
      "-------\n"
     ]
    }
   ],
   "source": [
    "hist = BestHistory(early_stop, early_number, min_generations)\n",
    "pop = Population(best_sample, lucky_few, population_size, \n",
    "                 number_of_children, gene_parameters, \n",
    "                 maximise_scores = True)\n",
    "\n",
    "pop.initialise_population()    \n",
    "for gen in range(num_gens):\n",
    "    if hist.converged:\n",
    "        break\n",
    "    print(f\"Generation {gen}\")\n",
    "    pop.next_generation()\n",
    "    hist.append(pop)\n",
    "    print(\"-------\")"
   ]
  },
  {
   "cell_type": "markdown",
   "id": "fe539129",
   "metadata": {},
   "source": [
    "There now exists the entire history of the best Individuals throughout each generation that can be saved and easily accessed. "
   ]
  },
  {
   "cell_type": "code",
   "execution_count": 19,
   "id": "58f53c62",
   "metadata": {},
   "outputs": [
    {
     "data": {
      "text/plain": [
       "{'history': [Individual(['GeneSet(33, 48, 20, 0.54)', 'GeneSet(97, 91, 84, 1.17)']),\n",
       "  Individual(['GeneSet(39, 40, 19, 0.64)', 'GeneSet(95, 61, 99, 1.51)']),\n",
       "  Individual(['GeneSet(41, 26, 2, 0.83)', 'GeneSet(97, 95, 99, 1.14)']),\n",
       "  Individual(['GeneSet(44, 49, 4, 0.27)', 'GeneSet(97, 61, 90, 1.63)']),\n",
       "  Individual(['GeneSet(44, 30, 5, 0.5)', 'GeneSet(95, 64, 81, 1.19)']),\n",
       "  Individual(['GeneSet(48, 43, 6, 0.5)', 'GeneSet(95, 93, 76, 1.31)']),\n",
       "  Individual(['GeneSet(47, 30, 6, 0.42)', 'GeneSet(95, 93, 76, 1.35)'])],\n",
       " 'converged': True,\n",
       " 'early_stop': 2,\n",
       " 'early_number': 3,\n",
       " 'min_generations': 5}"
      ]
     },
     "execution_count": 19,
     "metadata": {},
     "output_type": "execute_result"
    }
   ],
   "source": [
    "vars(hist)"
   ]
  },
  {
   "cell_type": "code",
   "execution_count": 20,
   "id": "052cbdbb",
   "metadata": {},
   "outputs": [],
   "source": [
    "example_gene_set.cutoff = 5\n",
    "example_gene_set.l_max = 3\n",
    "example_gene_set.n_max = 6"
   ]
  },
  {
   "cell_type": "code",
   "execution_count": 21,
   "id": "6fa0d5a3",
   "metadata": {},
   "outputs": [
    {
     "name": "stdout",
     "output_type": "stream",
     "text": [
      "conf_s file exists\n"
     ]
    }
   ],
   "source": [
    "test_ind = Individual([example_gene_set])\n",
    "conf_s, data = get_conf()"
   ]
  },
  {
   "cell_type": "code",
   "execution_count": 22,
   "id": "6adcc112",
   "metadata": {},
   "outputs": [
    {
     "name": "stdout",
     "output_type": "stream",
     "text": [
      "Getting soap for Atoms(symbols='COC6NCOC4ClC7O2C2O2H18', pbc=False)\n",
      "Getting soap for Atoms(symbols='C2ONC6OH9', pbc=False)\n",
      "Getting soap for Atoms(symbols='C3SO2C6FCONC7NCF3OH14', pbc=False)\n",
      "Getting soap for Atoms(symbols='C6NC6NC3OC7NOH25', pbc=False)\n",
      "Getting soap for Atoms(symbols='C25H34O6', pbc=False)\n",
      "Getting soap for Atoms(symbols='C3SCONC5O2H15', pbc=False)\n",
      "Getting soap for Atoms(symbols='COC6OC2NC3OC12NOH26', pbc=False)\n",
      "Getting soap for Atoms(symbols='C10N2C6SO2NCF3H14', pbc=False)\n",
      "Getting soap for Atoms(symbols='C9ONCOCCl2ONO2H12', pbc=False)\n",
      "Getting soap for Atoms(symbols='C2NC2NC22H28', pbc=False)\n",
      "Getting soap for Atoms(symbols='C14ClOC6NCH26', pbc=False)\n",
      "Getting soap for Atoms(symbols='C19ClNC2NCH17', pbc=False)\n",
      "Getting soap for Atoms(symbols='C12OC10NOH27', pbc=False)\n",
      "Getting soap for Atoms(symbols='C2OCSCONC3NCONFH10', pbc=False)\n",
      "Getting soap for Atoms(symbols='C10OC8OH24', pbc=False)\n",
      "Getting soap for Atoms(symbols='C9ONC6FC9FO2H21', pbc=False)\n",
      "Getting soap for Atoms(symbols='C2OCOC2NC9Cl2CO2C3H19', pbc=False)\n",
      "Getting soap for Atoms(symbols='C14FCO2H13', pbc=False)\n",
      "Getting soap for Atoms(symbols='C7O2C3O2NC7NC2ClH17', pbc=False)\n",
      "Getting soap for Atoms(symbols='C23H28ClN3O5S', pbc=False)\n",
      "Getting soap for Atoms(symbols='CNC6SO2NSO2NClH8', pbc=False)\n",
      "Getting soap for Atoms(symbols='C5OC14OCO2COH30', pbc=False)\n",
      "Getting soap for Atoms(symbols='CNC7F3SO2NSO2NH8', pbc=False)\n",
      "Getting soap for Atoms(symbols='C13O2H18', pbc=False)\n",
      "Getting soap for Atoms(symbols='C5NCOC6ClC4OC3O2H16', pbc=False)\n",
      "Getting soap for Atoms(symbols='C6NC2O2C8NONC2O2CH21', pbc=False)\n",
      "Getting soap for Atoms(symbols='C9OC7O2H14', pbc=False)\n",
      "Getting soap for Atoms(symbols='C9NC4NCNC5ONC2OH26', pbc=False)\n",
      "Getting soap for Atoms(symbols='C2NC7ONC7SO2NClH16', pbc=False)\n",
      "Getting soap for Atoms(symbols='C10OC5OC3H26', pbc=False)\n",
      "Getting soap for Atoms(symbols='C6NC2O2C7NO2CO2CH18', pbc=False)\n",
      "Getting soap for Atoms(symbols='CSO2NC6NO3C6H12', pbc=False)\n",
      "Getting soap for Atoms(symbols='CNC2NO2NC2SC3SCNCNC2H21', pbc=False)\n",
      "Getting soap for Atoms(symbols='C29H53NO5', pbc=False)\n",
      "Getting soap for Atoms(symbols='C4NCNC6OCONC3H21', pbc=False)\n",
      "Getting soap for Atoms(symbols='C28H29F2N3O', pbc=False)\n",
      "Getting soap for Atoms(symbols='C25H38O5', pbc=False)\n",
      "Getting soap for Atoms(symbols='C24H32O4S', pbc=False)\n",
      "Getting soap for Atoms(symbols='C13SOC5FC2O2H17', pbc=False)\n",
      "Getting soap for Atoms(symbols='C16OC2NC8H29', pbc=False)\n",
      "Getting soap for Atoms(symbols='C3NCNC2NCNCNOCPO3H14', pbc=False)\n",
      "Getting soap for Atoms(symbols='C10OC5OC4H28', pbc=False)\n",
      "Getting soap for Atoms(symbols='C2SO2C2NCNC2NO2CH13', pbc=False)\n",
      "Getting soap for Atoms(symbols='C7SO2NCON2C6H21', pbc=False)\n",
      "Getting soap for Atoms(symbols='C2OC16OCO2H16', pbc=False)\n",
      "Getting soap for Atoms(symbols='CNC5NC9OCONH21', pbc=False)\n",
      "Getting soap for Atoms(symbols='C3SC6NCN2CO2CH15', pbc=False)\n",
      "Getting soap for Atoms(symbols='C14NCONH12', pbc=False)\n",
      "Getting soap for Atoms(symbols='C4OC4OC2OC4OCOCClOCH17', pbc=False)\n",
      "Getting soap for Atoms(symbols='C6O2C2OC3O3CO5H22', pbc=False)\n",
      "Getting soap for Atoms(symbols='C2NCSNCN2CSC3NSO2N2H15', pbc=False)\n",
      "Getting soap for Atoms(symbols='C3NC3OC3SOCNC2NC4OCH19', pbc=False)\n",
      "Getting soap for Atoms(symbols='C2OC6NCOC3OH17', pbc=False)\n",
      "Getting soap for Atoms(symbols='C4OC8ONOH17', pbc=False)\n",
      "Getting soap for Atoms(symbols='CNCNC3ONCONC2H10', pbc=False)\n",
      "Getting soap for Atoms(symbols='C6ClNCO2H4', pbc=False)\n",
      "Getting soap for Atoms(symbols='C12F2CO3H8', pbc=False)\n",
      "Getting soap for Atoms(symbols='C6O6H14', pbc=False)\n",
      "Getting soap for Atoms(symbols='C13OC3O2H14', pbc=False)\n",
      "Getting soap for Atoms(symbols='C6NC3OC4FCO2H12', pbc=False)\n",
      "Getting soap for Atoms(symbols='C4O2C6OH8', pbc=False)\n",
      "Getting soap for Atoms(symbols='C8NC8OCO2H15', pbc=False)\n",
      "Getting soap for Atoms(symbols='C7NC7O2CH15', pbc=False)\n",
      "Getting soap for Atoms(symbols='C12OC2O2H14', pbc=False)\n",
      "Getting soap for Atoms(symbols='C3NC3OC8NOH20', pbc=False)\n",
      "Getting soap for Atoms(symbols='C4ONCNCOC6H14', pbc=False)\n",
      "Getting soap for Atoms(symbols='C3NC3SO2C7O2H19', pbc=False)\n",
      "Getting soap for Atoms(symbols='C2NC2NCONH5', pbc=False)\n",
      "Getting soap for Atoms(symbols='C7ONSO2H5', pbc=False)\n",
      "Getting soap for Atoms(symbols='C7O3H6', pbc=False)\n",
      "Getting soap for Atoms(symbols='C2NC4ONCNC10OC6FH26', pbc=False)\n",
      "Getting soap for Atoms(symbols='C4NONSO2C6NH11', pbc=False)\n",
      "Getting soap for Atoms(symbols='C6NSO2NH8', pbc=False)\n",
      "Getting soap for Atoms(symbols='CNC3ONCOCNCNH8', pbc=False)\n",
      "Getting soap for Atoms(symbols='C7ClNC7O2H12', pbc=False)\n",
      "Getting soap for Atoms(symbols='COC6OCOC4NCNCN2H18', pbc=False)\n",
      "Getting soap for Atoms(symbols='C8NOH11', pbc=False)\n",
      "Getting soap for Atoms(symbols='C6ClNCONH5', pbc=False)\n",
      "Getting soap for Atoms(symbols='C33H30N4O2', pbc=False)\n",
      "Getting soap for Atoms(symbols='COC2NCOC3SCOCONCO2NCOC5SH17', pbc=False)\n",
      "Getting soap for Atoms(symbols='C4OC7OCO2C5OC4H26', pbc=False)\n",
      "Getting soap for Atoms(symbols='C6O2C4OCO3CO5H22', pbc=False)\n",
      "Getting soap for Atoms(symbols='C7O2C5OCO4H18', pbc=False)\n",
      "Getting soap for Atoms(symbols='CNCOCNC7ClC6H13', pbc=False)\n",
      "Getting soap for Atoms(symbols='C2OCONC10NC7ClC2H23', pbc=False)\n",
      "Getting soap for Atoms(symbols='C2OC6SO2NCONC6H20', pbc=False)\n",
      "Getting soap for Atoms(symbols='C19NC2NCH18', pbc=False)\n",
      "Getting soap for Atoms(symbols='C14OC7Cl2H26', pbc=False)\n",
      "Getting soap for Atoms(symbols='C2NC4OCOC6NH20', pbc=False)\n",
      "Getting soap for Atoms(symbols='C37H48N6O5S2', pbc=False)\n",
      "Getting soap for Atoms(symbols='C9F3CF3OC2NC2OC2N2CONC6FH21', pbc=False)\n",
      "Getting soap for Atoms(symbols='C3ONCONC6NO2CF3CH10', pbc=False)\n",
      "Getting soap for Atoms(symbols='C31H48O2S2', pbc=False)\n",
      "Getting soap for Atoms(symbols='C8O2C2O2NC6Cl2H13', pbc=False)\n",
      "Getting soap for Atoms(symbols='C6Cl2COC2NC2NC7Cl2H14', pbc=False)\n",
      "Getting soap for Atoms(symbols='C2OCSCONC3NCONH11', pbc=False)\n",
      "Getting soap for Atoms(symbols='C6NSO2NCNC2SH9', pbc=False)\n",
      "Getting soap for Atoms(symbols='CNC7OCOC2OC6H23', pbc=False)\n",
      "Getting soap for Atoms(symbols='C6O6H14', pbc=False)\n",
      "Getting soap for Atoms(symbols='C4OCNC9ONC2NC4H29', pbc=False)\n",
      "Getting soap for Atoms(symbols='C7OC3O2H14', pbc=False)\n",
      "Getting soap for Atoms(symbols='C4ON2C7H12', pbc=False)\n",
      "Getting soap for Atoms(symbols='C5OC14OCH30', pbc=False)\n",
      "Getting soap for Atoms(symbols='C6ON2COC12H20', pbc=False)\n",
      "Getting soap for Atoms(symbols='C2OC14OC5H30', pbc=False)\n",
      "Getting soap for Atoms(symbols='C7ONCONCOC2H18', pbc=False)\n",
      "Getting soap for Atoms(symbols='C5O5H10', pbc=False)\n",
      "Getting soap for Atoms(symbols='C4ONCONCOC5H18', pbc=False)\n",
      "Getting soap for Atoms(symbols='C7NC2SOC10H17', pbc=False)\n",
      "Getting soap for Atoms(symbols='C9OC3OCOC2H18', pbc=False)\n",
      "Getting soap for Atoms(symbols='C28H44O', pbc=False)\n",
      "Getting soap for Atoms(symbols='C7NCOC2N2COC3NC2H18', pbc=False)\n",
      "Getting soap for Atoms(symbols='C2OCOC2NC9NO2CO2C3H20', pbc=False)\n",
      "Getting soap for Atoms(symbols='C12OC6OH20', pbc=False)\n",
      "Getting soap for Atoms(symbols='C3ONC2NSO2C6NH13', pbc=False)\n",
      "Getting soap for Atoms(symbols='CNC3ONCOCNCNC3O2H14', pbc=False)\n",
      "Getting soap for Atoms(symbols='C4ONCONCOC6H12', pbc=False)\n",
      "Getting soap for Atoms(symbols='C12OC7OCH26', pbc=False)\n",
      "Getting soap for Atoms(symbols='C2OC14OC4ClCOCOCH29', pbc=False)\n",
      "Getting soap for Atoms(symbols='C26H31ClN2O8S', pbc=False)\n",
      "Getting soap for Atoms(symbols='C6O2C2OC3O3CO5H22', pbc=False)\n",
      "Getting soap for Atoms(symbols='COC9NC5NCOC2OC4OCH26', pbc=False)\n",
      "Getting soap for Atoms(symbols='C24H40O4', pbc=False)\n"
     ]
    }
   ],
   "source": [
    "test_ind.comp_soaps(conf_s, data)"
   ]
  },
  {
   "cell_type": "code",
   "execution_count": 23,
   "id": "a612d669",
   "metadata": {},
   "outputs": [
    {
     "data": {
      "text/plain": [
       "(123, 3613)"
      ]
     },
     "execution_count": 23,
     "metadata": {},
     "output_type": "execute_result"
    }
   ],
   "source": [
    "test_ind.soaps.shape"
   ]
  },
  {
   "cell_type": "code",
   "execution_count": 68,
   "id": "614a45c3",
   "metadata": {},
   "outputs": [],
   "source": [
    "from sklearn.preprocessing import MinMaxScaler\n",
    "from tensorflow.keras import layers, optimizers, Model, backend\n",
    "from tensorflow.keras.layers import Input, Dense\n",
    "from tensorflow.keras.callbacks import EarlyStopping\n",
    "from scipy.stats import pearsonr\n",
    "from sklearn.metrics import mean_squared_error\n",
    "os.environ['TF_CPP_MIN_LOG_LEVEL'] = '2'"
   ]
  },
  {
   "cell_type": "code",
   "execution_count": 29,
   "id": "5737d0d8",
   "metadata": {},
   "outputs": [],
   "source": [
    "def cv_split(individual, splits, repeats, random_state):\n",
    "    \"\"\"\n",
    "    Returns split indices for train and test sets\n",
    "    \"\"\"\n",
    "    cv = RepeatedKFold(n_splits = splits, n_repeats = repeats, random_state = random_state)\n",
    "    for train_index, test_index in cv.split(soaps):\n",
    "        print(train_index, test_index) "
   ]
  },
  {
   "cell_type": "code",
   "execution_count": 31,
   "id": "dc22974a",
   "metadata": {},
   "outputs": [],
   "source": [
    "def scaleData(train, test):\n",
    "    scaler = MinMaxScaler()\n",
    "    train_scaled = scaler.fit_transform(train)\n",
    "    test_scaled = scaler.transform(test)\n",
    "\n",
    "    return train_scaled, test_scaled, scaler"
   ]
  },
  {
   "cell_type": "code",
   "execution_count": 46,
   "id": "ea2f6d31",
   "metadata": {},
   "outputs": [],
   "source": [
    "def buildModel(X):\n",
    "    backend.clear_session()\n",
    "    input_layer = Input(X.shape[1])\n",
    "    hidden_layer = input_layer\n",
    "    for layer in [30,30,30]:\n",
    "        hidden_layer = Dense(layer, activation='relu')(hidden_layer)\n",
    "\n",
    "    output_layer = Dense(units=1, activation='linear')(hidden_layer)\n",
    "    model = Model(input_layer, output_layer)\n",
    "    model.compile(loss='mean_squared_error', optimizer=optimizers.Adam(learning_rate=0.01), metrics=['mean_squared_error'])\n",
    "\n",
    "    return model"
   ]
  },
  {
   "cell_type": "code",
   "execution_count": 70,
   "id": "241b3765",
   "metadata": {},
   "outputs": [],
   "source": [
    "\n",
    "def get_scores(Individual, train_index, test_index, scaling = None, **kwargs):\n",
    "    estimator = buildModel(Individual.soaps)\n",
    "    X_train, X_test, X_scaler = scaleData(Individual.soaps[train_index], Individual.soaps[test_index])\n",
    "    y_train, y_test, y_scaler = scaleData(Individual.targets[train_index].reshape(-1,1), Individual.targets[test_index].reshape(-1,1))\n",
    "    scores = scorerNN(estimator, X_train, X_test, y_train, y_test, y_scaler)\n",
    "    print(scores[0])\n",
    "    return scores"
   ]
  },
  {
   "cell_type": "code",
   "execution_count": 71,
   "id": "0cb2ff4e",
   "metadata": {},
   "outputs": [],
   "source": [
    "def scorerNN(estimator, X_train, X_test, y_train, y_test, y_scaler):\n",
    "    \"\"\" Scoring function for use with NN regressor. Added by Matt. \"\"\"\n",
    "\n",
    "    callback = EarlyStopping(monitor='val_loss', patience=50)\n",
    "    estimator.fit(X_train, y_train, callbacks=[callback], validation_split=0.1, epochs=200, verbose=False)\n",
    "    y_test_pred, y_train_pred = estimator.predict(X_test, verbose=False), estimator.predict(X_train, verbose=False)\n",
    "    y_test_pred, y_train_pred = y_scaler.inverse_transform(y_test_pred), y_scaler.inverse_transform(y_train_pred)\n",
    "    y_test = np.ravel(y_test)\n",
    "    y_train = np.ravel(y_train)\n",
    "    testCorr = pearsonr(y_test, y_test_pred)[0]\n",
    "    trainCorr = pearsonr(y_train, y_train_pred)[0]\n",
    "    testMSE = mean_squared_error(y_test, y_test_pred)\n",
    "    trainMSE =  mean_squared_error(y_train, y_train_pred)\n",
    "    return (2 * (trainMSE * (1-trainCorr)) + (testMSE * (1-testCorr))), X_train, X_test, y_train, y_test, y_test_pred, y_train_pred"
   ]
  },
  {
   "cell_type": "code",
   "execution_count": 72,
   "id": "3da569df",
   "metadata": {},
   "outputs": [
    {
     "name": "stdout",
     "output_type": "stream",
     "text": [
      "[99645.56217025577]\n",
      "[69876.66126100467]\n",
      "[124741.35231907856]\n",
      "[68401.65889012409]\n",
      "[54596.799431133564]\n",
      "[92641.5624158965]\n",
      "[116602.60204956552]\n",
      "[79126.32387857576]\n"
     ]
    },
    {
     "name": "stderr",
     "output_type": "stream",
     "text": [
      "/Users/trentbarnard/.local/share/virtualenvs/SOAP_GAS-aAoOjMeD/lib/python3.9/site-packages/scipy/stats/_stats_py.py:4427: ConstantInputWarning: An input array is constant; the correlation coefficient is not defined.\n",
      "  warnings.warn(stats.ConstantInputWarning(msg))\n"
     ]
    },
    {
     "name": "stdout",
     "output_type": "stream",
     "text": [
      "[nan]\n",
      "[110951.30853281723]\n"
     ]
    }
   ],
   "source": [
    "cv = RepeatedKFold(n_splits = 5, n_repeats = 2, random_state = 6)\n",
    "for train_index, test_index in cv.split(test_ind.soaps):\n",
    "    get_scores(test_ind, train_index, test_index)"
   ]
  },
  {
   "cell_type": "code",
   "execution_count": 41,
   "id": "6c8c242a",
   "metadata": {},
   "outputs": [
    {
     "data": {
      "text/plain": [
       "numpy.dtype[float64]"
      ]
     },
     "execution_count": 41,
     "metadata": {},
     "output_type": "execute_result"
    }
   ],
   "source": [
    "type(t.dtype)"
   ]
  },
  {
   "cell_type": "code",
   "execution_count": 44,
   "id": "71f0189a",
   "metadata": {},
   "outputs": [],
   "source": [
    "def build_model(individual):\n",
    "    if individual.targets.dtype == float:\n",
    "        target_type = 'regression'\n",
    "    elif individual.targets.dtype == (int or str):\n",
    "        target_type = 'classification'\n",
    "    estimator = 3\n",
    "    return estimator, target_type"
   ]
  },
  {
   "cell_type": "code",
   "execution_count": 45,
   "id": "a3844037",
   "metadata": {},
   "outputs": [
    {
     "data": {
      "text/plain": [
       "(3, 'reg')"
      ]
     },
     "execution_count": 45,
     "metadata": {},
     "output_type": "execute_result"
    }
   ],
   "source": [
    "build_model(test_ind)"
   ]
  },
  {
   "cell_type": "code",
   "execution_count": null,
   "id": "13d39ff9",
   "metadata": {},
   "outputs": [],
   "source": []
  }
 ],
 "metadata": {
  "kernelspec": {
   "display_name": "Python 3 (ipykernel)",
   "language": "python",
   "name": "python3"
  },
  "language_info": {
   "codemirror_mode": {
    "name": "ipython",
    "version": 3
   },
   "file_extension": ".py",
   "mimetype": "text/x-python",
   "name": "python",
   "nbconvert_exporter": "python",
   "pygments_lexer": "ipython3",
   "version": "3.9.6"
  }
 },
 "nbformat": 4,
 "nbformat_minor": 5
}
