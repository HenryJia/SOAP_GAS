{
 "cells": [
  {
   "cell_type": "markdown",
   "id": "9e26ef0c",
   "metadata": {},
   "source": [
    "## Before running"
   ]
  },
  {
   "cell_type": "markdown",
   "id": "11959e51",
   "metadata": {},
   "source": [
    "A virtual environment can be created using \n",
    "- 'pipenv install'\n",
    "- 'pipenv shell'\n",
    "\n",
    "This will allow us to all use the same packages and versions. They are listed in the Pipfile"
   ]
  },
  {
   "cell_type": "code",
   "execution_count": 1,
   "id": "290624e9",
   "metadata": {},
   "outputs": [],
   "source": [
    "from refactoring import *"
   ]
  },
  {
   "cell_type": "markdown",
   "id": "9abf6067",
   "metadata": {},
   "source": [
    "## Inputs"
   ]
  },
  {
   "cell_type": "markdown",
   "id": "b7b3a8c5",
   "metadata": {},
   "source": [
    "Dictionaries are taken as input from a parameter file, they contain the parameters for each soap descriptor"
   ]
  },
  {
   "cell_type": "code",
   "execution_count": 2,
   "id": "a65c9154",
   "metadata": {},
   "outputs": [],
   "source": [
    "descDict1 = {'lower': 1, 'upper': 50, 'centres': '{8, 7, 6, 1, 16, 17, 9}',\n",
    "             'neighbours': '{8, 7, 6, 1, 16, 17, 9}', 'mu': 0, \n",
    "             'mu_hat': 0, 'nu': 2, 'nu_hat': 0, 'mutation_chance': 0.50, \n",
    "             'min_cutoff': 1, 'max_cutoff': 50, 'min_sigma': 0.1, \n",
    "             'max_sigma': 0.9}\n",
    "\n",
    "descDict2 = {'lower': 51, 'upper': 100, 'centres': '{8, 7, 6, 1, 16, 17, 9}',\n",
    "             'neighbours': '{8, 7, 6, 1, 16, 17, 9}', 'mu': 0, \n",
    "             'mu_hat': 0, 'nu': 2, 'nu_hat': 0, 'mutation_chance': 0.50,\n",
    "             'min_cutoff': 51, 'max_cutoff': 100, 'min_sigma': 1.1, \n",
    "             'max_sigma': 1.9}"
   ]
  },
  {
   "cell_type": "markdown",
   "id": "83e31fb5",
   "metadata": {},
   "source": [
    "Other parameters are also taken as input. These are automatically checked that the parameters are viable"
   ]
  },
  {
   "cell_type": "code",
   "execution_count": 3,
   "id": "bb86204d",
   "metadata": {},
   "outputs": [],
   "source": [
    "num_gens = 100\n",
    "best_sample, lucky_few, population_size, number_of_children = 4, 2, 12, 4\n",
    "early_stop = 2\n",
    "early_number = 3 \n",
    "min_generations = 5"
   ]
  },
  {
   "cell_type": "markdown",
   "id": "c9d7f5e1",
   "metadata": {},
   "source": [
    "## GeneParameter"
   ]
  },
  {
   "cell_type": "markdown",
   "id": "94a756a1",
   "metadata": {},
   "source": [
    "GeneParameter class is created from each descriptor dictionary. "
   ]
  },
  {
   "cell_type": "code",
   "execution_count": 4,
   "id": "c6a220fc",
   "metadata": {},
   "outputs": [],
   "source": [
    "params1 = GeneParameters(**descDict1)\n",
    "params2 = GeneParameters(**descDict2)"
   ]
  },
  {
   "cell_type": "code",
   "execution_count": 5,
   "id": "c3c2af77",
   "metadata": {},
   "outputs": [
    {
     "data": {
      "text/plain": [
       "GeneParameters(lower=1, upper=50, centres='{8, 7, 6, 1, 16, 17, 9}', neighbours='{8, 7, 6, 1, 16, 17, 9}', mu=0, mu_hat=0, nu=2, nu_hat=0, mutation_chance=0.5, min_cutoff=1, max_cutoff=50, min_sigma=0.1, max_sigma=0.9)"
      ]
     },
     "execution_count": 5,
     "metadata": {},
     "output_type": "execute_result"
    }
   ],
   "source": [
    "params1"
   ]
  },
  {
   "cell_type": "markdown",
   "id": "f8736b78",
   "metadata": {},
   "source": [
    "## GeneSet"
   ]
  },
  {
   "cell_type": "markdown",
   "id": "6cb6ee73",
   "metadata": {},
   "source": [
    "We can use these classes to create a specific set of parameters that are consistant with these values. This returns a randomly generated GeneSet class"
   ]
  },
  {
   "cell_type": "code",
   "execution_count": 6,
   "id": "cb110b00",
   "metadata": {},
   "outputs": [
    {
     "data": {
      "text/plain": [
       "GeneSet(32, 23, 28, 0.31)"
      ]
     },
     "execution_count": 6,
     "metadata": {},
     "output_type": "execute_result"
    }
   ],
   "source": [
    "example_gene_set = params1.make_gene_set()\n",
    "example_gene_set"
   ]
  },
  {
   "cell_type": "markdown",
   "id": "abc0b2f4",
   "metadata": {},
   "source": [
    "We can get the parameters used to create the GeneSet class"
   ]
  },
  {
   "cell_type": "code",
   "execution_count": 7,
   "id": "75f3f54a",
   "metadata": {},
   "outputs": [
    {
     "data": {
      "text/plain": [
       "GeneParameters(lower=1, upper=50, centres='{8, 7, 6, 1, 16, 17, 9}', neighbours='{8, 7, 6, 1, 16, 17, 9}', mu=0, mu_hat=0, nu=2, nu_hat=0, mutation_chance=0.5, min_cutoff=1, max_cutoff=50, min_sigma=0.1, max_sigma=0.9)"
      ]
     },
     "execution_count": 7,
     "metadata": {},
     "output_type": "execute_result"
    }
   ],
   "source": [
    "example_gene_set.gene_parameters"
   ]
  },
  {
   "cell_type": "markdown",
   "id": "71514327",
   "metadata": {},
   "source": [
    "We can get a descriptor string to be used as an input for getting SOAPs"
   ]
  },
  {
   "cell_type": "code",
   "execution_count": 8,
   "id": "c02e1b69",
   "metadata": {},
   "outputs": [
    {
     "data": {
      "text/plain": [
       "'soap average cutoff=32 l_max=23 n_max=28 atom_sigma=0.31 n_Z=9 Z={8, 7, 6, 1, 16, 17, 9} n_species=9 species_Z={8, 7, 6, 1, 16, 17, 9} mu=0 mu_hat=0 nu=2 nu_hat=0'"
      ]
     },
     "execution_count": 8,
     "metadata": {},
     "output_type": "execute_result"
    }
   ],
   "source": [
    "example_gene_set.get_soap_string()"
   ]
  },
  {
   "cell_type": "markdown",
   "id": "f9735a2b",
   "metadata": {},
   "source": [
    "We can also mutate the gene using the mutation chance in the GeneParameters class"
   ]
  },
  {
   "cell_type": "code",
   "execution_count": 9,
   "id": "d07dab90",
   "metadata": {},
   "outputs": [
    {
     "name": "stdout",
     "output_type": "stream",
     "text": [
      "Before mutation [32, 23, 28, 0.31]\n",
      "After mutation [32, 38, 40, 0.64]\n"
     ]
    }
   ],
   "source": [
    "print(f\"Before mutation {example_gene_set}\")\n",
    "example_gene_set.mutate_gene()\n",
    "print(f\"After mutation {example_gene_set}\")"
   ]
  },
  {
   "cell_type": "markdown",
   "id": "b079180e",
   "metadata": {},
   "source": [
    "## Individual"
   ]
  },
  {
   "cell_type": "markdown",
   "id": "d3581dd2",
   "metadata": {},
   "source": [
    "An Individual is made up of a list of GeneSet classes."
   ]
  },
  {
   "cell_type": "code",
   "execution_count": 10,
   "id": "df9161b7",
   "metadata": {},
   "outputs": [
    {
     "data": {
      "text/plain": [
       "Individual(['GeneSet(32, 38, 40, 0.64)', 'GeneSet(77, 74, 65, 1.72)'])"
      ]
     },
     "execution_count": 10,
     "metadata": {},
     "output_type": "execute_result"
    }
   ],
   "source": [
    "example_gene_set_two = params2.make_gene_set()\n",
    "gene_set_list = [example_gene_set, example_gene_set_two]\n",
    "example_individual = Individual(gene_set_list)\n",
    "example_individual"
   ]
  },
  {
   "cell_type": "markdown",
   "id": "c316db72",
   "metadata": {},
   "source": [
    "Getting the score for an indivudual"
   ]
  },
  {
   "cell_type": "code",
   "execution_count": 11,
   "id": "7d22c3ca",
   "metadata": {},
   "outputs": [
    {
     "data": {
      "text/plain": [
       "109"
      ]
     },
     "execution_count": 11,
     "metadata": {},
     "output_type": "execute_result"
    }
   ],
   "source": [
    "example_individual.get_score()\n",
    "example_individual.score"
   ]
  },
  {
   "cell_type": "markdown",
   "id": "2880e5d2",
   "metadata": {},
   "source": [
    "Breeding two individuals to create a child. Mutation is automatically performed during this"
   ]
  },
  {
   "cell_type": "code",
   "execution_count": 12,
   "id": "cdc42bef",
   "metadata": {},
   "outputs": [
    {
     "name": "stdout",
     "output_type": "stream",
     "text": [
      "Breeding Individual(['[32, 38, 40, 0.64]', '[77, 74, 65, 1.72]']) with Individual(['[32, 38, 40, 0.64]', '[77, 74, 65, 1.72]'])\n",
      "Created child Individual(['[15, 43, 40, 0.73]', '[77, 67, 65, 1.4]'])\n"
     ]
    }
   ],
   "source": [
    "example_individual_two = Individual(gene_set_list)\n",
    "print(f\"Breeding {example_individual} with {example_individual_two}\")\n",
    "child = breed_individuals(example_individual, example_individual_two)\n",
    "print(f\"Created child {child}\")"
   ]
  },
  {
   "cell_type": "markdown",
   "id": "da9ba698",
   "metadata": {},
   "source": [
    "## Population"
   ]
  },
  {
   "cell_type": "markdown",
   "id": "7100c58c",
   "metadata": {},
   "source": [
    "A Population is a collection of Individual classes. This can be created using a list of GeneParameter classes"
   ]
  },
  {
   "cell_type": "code",
   "execution_count": 21,
   "id": "e5313a81",
   "metadata": {},
   "outputs": [
    {
     "data": {
      "text/plain": [
       "Population(4, 2, 12, 4, [GeneParameters(lower=1, upper=50, centres='{8, 7, 6, 1, 16, 17, 9}', neighbours='{8, 7, 6, 1, 16, 17, 9}', mu=0, mu_hat=0, nu=2, nu_hat=0, mutation_chance=0.5, min_cutoff=1, max_cutoff=50, min_sigma=0.1, max_sigma=0.9), GeneParameters(lower=51, upper=100, centres='{8, 7, 6, 1, 16, 17, 9}', neighbours='{8, 7, 6, 1, 16, 17, 9}', mu=0, mu_hat=0, nu=2, nu_hat=0, mutation_chance=0.5, min_cutoff=51, max_cutoff=100, min_sigma=1.1, max_sigma=1.9)], True)"
      ]
     },
     "execution_count": 21,
     "metadata": {},
     "output_type": "execute_result"
    }
   ],
   "source": [
    "gene_parameters = [params1, params2]\n",
    "pop = Population(best_sample, lucky_few, population_size, \n",
    "                 number_of_children, gene_parameters, \n",
    "                 maximise_scores = True)\n",
    "pop"
   ]
  },
  {
   "cell_type": "markdown",
   "id": "67256c6f",
   "metadata": {},
   "source": [
    "To initialise the population"
   ]
  },
  {
   "cell_type": "code",
   "execution_count": 14,
   "id": "aa2d35f4",
   "metadata": {},
   "outputs": [
    {
     "name": "stdout",
     "output_type": "stream",
     "text": [
      "Initial population of size 12 generated\n"
     ]
    }
   ],
   "source": [
    "pop.initialise_population()"
   ]
  },
  {
   "cell_type": "markdown",
   "id": "192821fe",
   "metadata": {},
   "source": [
    "If you want a way of neatly seeing what individuals are in the population"
   ]
  },
  {
   "cell_type": "code",
   "execution_count": 15,
   "id": "9033e428",
   "metadata": {},
   "outputs": [
    {
     "name": "stdout",
     "output_type": "stream",
     "text": [
      "Individual(['[30, 43, 44, 0.33]', '[55, 97, 99, 1.14]']) has a score of: 85\n",
      "Individual(['[37, 48, 45, 0.68]', '[98, 64, 52, 1.66]']) has a score of: 135\n",
      "Individual(['[46, 49, 27, 0.83]', '[74, 61, 60, 1.39]']) has a score of: 120\n",
      "Individual(['[1, 19, 7, 0.64]', '[93, 93, 66, 1.73]']) has a score of: 94\n",
      "Individual(['[6, 5, 36, 0.23]', '[91, 74, 86, 1.54]']) has a score of: 97\n",
      "Individual(['[9, 14, 34, 0.58]', '[70, 88, 79, 1.16]']) has a score of: 79\n",
      "Individual(['[42, 25, 25, 0.47]', '[87, 95, 93, 1.69]']) has a score of: 129\n",
      "Individual(['[23, 14, 36, 0.52]', '[66, 53, 75, 1.85]']) has a score of: 89\n",
      "Individual(['[26, 9, 47, 0.21]', '[62, 53, 92, 1.49]']) has a score of: 88\n",
      "Individual(['[8, 8, 9, 0.79]', '[98, 52, 59, 1.41]']) has a score of: 106\n",
      "Individual(['[40, 33, 38, 0.89]', '[95, 85, 73, 1.81]']) has a score of: 135\n",
      "Individual(['[13, 22, 6, 0.34]', '[94, 62, 54, 1.13]']) has a score of: 107\n"
     ]
    }
   ],
   "source": [
    "pop.print_population()"
   ]
  },
  {
   "cell_type": "markdown",
   "id": "dd056381",
   "metadata": {},
   "source": [
    "The next generation can then be generated "
   ]
  },
  {
   "cell_type": "code",
   "execution_count": 16,
   "id": "fc1ada74",
   "metadata": {},
   "outputs": [
    {
     "name": "stdout",
     "output_type": "stream",
     "text": [
      "Individual(['[20, 33, 45, 0.62]', '[74, 64, 53, 1.81]']) has a score of: 94\n",
      "Individual(['[37, 33, 45, 0.59]', '[84, 91, 73, 1.66]']) has a score of: 121\n",
      "Individual(['[8, 8, 12, 0.2]', '[62, 53, 59, 1.87]']) has a score of: 70\n",
      "Individual(['[14, 38, 27, 0.61]', '[53, 51, 76, 1.87]']) has a score of: 67\n",
      "Individual(['[26, 27, 26, 0.33]', '[98, 52, 60, 1.49]']) has a score of: 124\n",
      "Individual(['[19, 19, 6, 0.46]', '[52, 85, 94, 1.39]']) has a score of: 71\n",
      "Individual(['[14, 48, 2, 0.68]', '[65, 85, 81, 1.25]']) has a score of: 79\n",
      "Individual(['[46, 44, 27, 0.83]', '[54, 95, 56, 1.34]']) has a score of: 100\n",
      "Individual(['[46, 25, 27, 0.83]', '[63, 61, 93, 1.69]']) has a score of: 109\n",
      "Individual(['[8, 8, 45, 0.29]', '[77, 56, 59, 1.45]']) has a score of: 85\n",
      "Individual(['[8, 8, 39, 0.81]', '[72, 66, 91, 1.49]']) has a score of: 80\n",
      "Individual(['[46, 45, 23, 0.49]', '[74, 95, 93, 1.15]']) has a score of: 120\n"
     ]
    }
   ],
   "source": [
    "pop.next_generation()\n",
    "pop.print_population()"
   ]
  },
  {
   "cell_type": "markdown",
   "id": "b51bb01f",
   "metadata": {},
   "source": [
    "So to run the full GA "
   ]
  },
  {
   "cell_type": "code",
   "execution_count": 17,
   "id": "0039c114",
   "metadata": {},
   "outputs": [
    {
     "name": "stdout",
     "output_type": "stream",
     "text": [
      "Individual(['[10, 28, 49, 0.48]', '[53, 77, 52, 1.52]']) has a score of: 63\n",
      "Individual(['[17, 37, 19, 0.58]', '[98, 83, 88, 1.46]']) has a score of: 115\n",
      "Individual(['[45, 30, 48, 0.24]', '[57, 76, 71, 1.52]']) has a score of: 102\n",
      "Individual(['[42, 18, 38, 0.46]', '[87, 92, 82, 1.63]']) has a score of: 129\n",
      "Individual(['[44, 3, 25, 0.89]', '[87, 56, 94, 1.1]']) has a score of: 131\n",
      "Individual(['[39, 25, 11, 0.48]', '[87, 56, 68, 1.63]']) has a score of: 126\n",
      "Individual(['[27, 37, 19, 0.29]', '[98, 83, 87, 1.7]']) has a score of: 125\n",
      "Individual(['[39, 32, 17, 0.79]', '[96, 57, 88, 1.7]']) has a score of: 135\n",
      "Individual(['[27, 37, 19, 0.79]', '[51, 83, 62, 1.89]']) has a score of: 78\n",
      "Individual(['[42, 45, 12, 0.48]', '[53, 75, 71, 1.6]']) has a score of: 95\n",
      "Individual(['[34, 28, 6, 0.44]', '[90, 55, 61, 1.75]']) has a score of: 124\n",
      "Individual(['[39, 1, 1, 0.48]', '[90, 92, 68, 1.53]']) has a score of: 129\n"
     ]
    }
   ],
   "source": [
    "for _ in range(num_gens):\n",
    "    pop.next_generation()\n",
    "pop.print_population()"
   ]
  },
  {
   "cell_type": "markdown",
   "id": "9a0fe158",
   "metadata": {},
   "source": [
    "## BestHistory"
   ]
  },
  {
   "cell_type": "markdown",
   "id": "048730bb",
   "metadata": {},
   "source": [
    "BestHistory is a class to store the history and check convergence criteria. So the entire GA can be run, printed, and saved using the following code snippet:"
   ]
  },
  {
   "cell_type": "code",
   "execution_count": 18,
   "id": "e0272354",
   "metadata": {},
   "outputs": [
    {
     "name": "stdout",
     "output_type": "stream",
     "text": [
      "Initial population of size 12 generated\n",
      "Generation 0\n",
      "Best Individual Individual(['[45, 21, 41, 0.52]', '[98, 69, 61, 1.47]']) with a score of 143 added to history\n",
      "-------\n",
      "Generation 1\n",
      "Best Individual Individual(['[45, 21, 31, 0.4]', '[98, 82, 53, 1.26]']) with a score of 143 added to history\n",
      "-------\n",
      "Generation 2\n",
      "Best Individual Individual(['[45, 44, 31, 0.35]', '[99, 82, 53, 1.26]']) with a score of 144 added to history\n",
      "-------\n",
      "Generation 3\n",
      "Best Individual Individual(['[45, 44, 31, 0.35]', '[98, 74, 80, 1.74]']) with a score of 143 added to history\n",
      "-------\n",
      "Generation 4\n",
      "Best Individual Individual(['[45, 44, 43, 0.69]', '[98, 74, 80, 1.54]']) with a score of 143 added to history\n",
      "SOAP_GAS has converged\n",
      "-------\n"
     ]
    }
   ],
   "source": [
    "hist = BestHistory(early_stop, early_number, min_generations)\n",
    "pop = Population(best_sample, lucky_few, population_size, \n",
    "                 number_of_children, gene_parameters, \n",
    "                 maximise_scores = True)\n",
    "\n",
    "pop.initialise_population()    \n",
    "for gen in range(num_gens):\n",
    "    if hist.converged:\n",
    "        break\n",
    "    print(f\"Generation {gen}\")\n",
    "    pop.next_generation()\n",
    "    hist.append(pop)\n",
    "    print(\"-------\")"
   ]
  },
  {
   "cell_type": "markdown",
   "id": "fe539129",
   "metadata": {},
   "source": [
    "There now exists the entire history of the best Individuals throughout each generation that can be saved and easily accessed. "
   ]
  },
  {
   "cell_type": "code",
   "execution_count": 19,
   "id": "58f53c62",
   "metadata": {},
   "outputs": [
    {
     "data": {
      "text/plain": [
       "{'history': [Individual(['GeneSet(45, 21, 41, 0.52)', 'GeneSet(98, 69, 61, 1.47)']),\n",
       "  Individual(['GeneSet(45, 21, 31, 0.4)', 'GeneSet(98, 82, 53, 1.26)']),\n",
       "  Individual(['GeneSet(45, 44, 31, 0.35)', 'GeneSet(99, 82, 53, 1.26)']),\n",
       "  Individual(['GeneSet(45, 44, 31, 0.35)', 'GeneSet(98, 74, 80, 1.74)']),\n",
       "  Individual(['GeneSet(45, 44, 43, 0.69)', 'GeneSet(98, 74, 80, 1.54)'])],\n",
       " 'converged': True,\n",
       " 'early_stop': 2,\n",
       " 'early_number': 3,\n",
       " 'min_generations': 5}"
      ]
     },
     "execution_count": 19,
     "metadata": {},
     "output_type": "execute_result"
    }
   ],
   "source": [
    "vars(hist)"
   ]
  }
 ],
 "metadata": {
  "kernelspec": {
   "display_name": "Python 3",
   "language": "python",
   "name": "python3"
  },
  "language_info": {
   "codemirror_mode": {
    "name": "ipython",
    "version": 3
   },
   "file_extension": ".py",
   "mimetype": "text/x-python",
   "name": "python",
   "nbconvert_exporter": "python",
   "pygments_lexer": "ipython3",
   "version": "3.6.10"
  }
 },
 "nbformat": 4,
 "nbformat_minor": 5
}
